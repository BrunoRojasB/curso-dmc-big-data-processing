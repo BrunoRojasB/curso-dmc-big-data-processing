{
 "cells": [
  {
   "cell_type": "code",
   "execution_count": 0,
   "metadata": {
    "application/vnd.databricks.v1+cell": {
     "cellMetadata": {
      "byteLimit": 2048000,
      "rowLimit": 10000
     },
     "inputWidgets": {},
     "nuid": "5dfdde3d-86e1-4fb4-8e68-b66dcb50389f",
     "showTitle": false,
     "tableResultSettingsMap": {},
     "title": ""
    }
   },
   "outputs": [],
   "source": [
    "#Importamos las librerías necesarias\n",
    "from pyspark.sql import SparkSession\n",
    "#from pyspark.sql.types import StructField, StructType, StringType\n",
    "from pyspark.sql.functions import regexp_replace, upper, date_format, current_date, add_months, when, col\n",
    "from pyspark.sql.types import IntegerType, DoubleType\n",
    "from datetime import datetime\n",
    "from dateutil.relativedelta import relativedelta"
   ]
  },
  {
   "cell_type": "code",
   "execution_count": 0,
   "metadata": {
    "application/vnd.databricks.v1+cell": {
     "cellMetadata": {
      "byteLimit": 2048000,
      "rowLimit": 10000
     },
     "inputWidgets": {},
     "nuid": "77b07dfe-800a-464e-a538-b6c27eed457b",
     "showTitle": false,
     "tableResultSettingsMap": {},
     "title": ""
    }
   },
   "outputs": [],
   "source": [
    "#variables\n",
    "spark = SparkSession.builder.getOrCreate()\n",
    "\n",
    "#Archivo cloud storage\n",
    "name_bucket = \"dmc_dde_barb\"\n",
    "#Path del lakehouse, capa bronze (origen)\n",
    "#capa silver (destino)\n",
    "path_lakehouse = f\"gs://{name_bucket}/produccion/dmc\"\n",
    "path_bronze = f\"{path_lakehouse}/bronze/empresas/\"\n",
    "path_silver = f\"{path_lakehouse}/silver/empresas/\"\n"
   ]
  },
  {
   "cell_type": "code",
   "execution_count": 0,
   "metadata": {
    "application/vnd.databricks.v1+cell": {
     "cellMetadata": {
      "byteLimit": 2048000,
      "rowLimit": 10000
     },
     "inputWidgets": {},
     "nuid": "472614e3-12b9-48a1-83af-bb3371009470",
     "showTitle": false,
     "tableResultSettingsMap": {},
     "title": ""
    }
   },
   "outputs": [
    {
     "output_type": "display_data",
     "data": {
      "text/html": [
       "<style scoped>\n",
       "  .table-result-container {\n",
       "    max-height: 300px;\n",
       "    overflow: auto;\n",
       "  }\n",
       "  table, th, td {\n",
       "    border: 1px solid black;\n",
       "    border-collapse: collapse;\n",
       "  }\n",
       "  th, td {\n",
       "    padding: 5px;\n",
       "  }\n",
       "  th {\n",
       "    text-align: left;\n",
       "  }\n",
       "</style><div class='table-result-container'><table class='table-result'><thead style='background-color: white'><tr><th>ID</th><th>NOMBRE</th></tr></thead><tbody><tr><td>1</td><td>Walmart</td></tr><tr><td>2</td><td>Microsoft</td></tr><tr><td>3</td><td>Apple</td></tr><tr><td>4</td><td>Toyota</td></tr><tr><td>5</td><td>Amazon</td></tr><tr><td>6</td><td>Google</td></tr><tr><td>7</td><td>Samsung</td></tr><tr><td>8</td><td>HP</td></tr><tr><td>9</td><td>IBM</td></tr><tr><td>10</td><td>Sony</td></tr></tbody></table></div>"
      ]
     },
     "metadata": {
      "application/vnd.databricks.v1+output": {
       "addedWidgets": {},
       "aggData": [],
       "aggError": "",
       "aggOverflow": false,
       "aggSchema": [],
       "aggSeriesLimitReached": false,
       "aggType": "",
       "arguments": {},
       "columnCustomDisplayInfos": {},
       "data": [
        [
         "1",
         "Walmart"
        ],
        [
         "2",
         "Microsoft"
        ],
        [
         "3",
         "Apple"
        ],
        [
         "4",
         "Toyota"
        ],
        [
         "5",
         "Amazon"
        ],
        [
         "6",
         "Google"
        ],
        [
         "7",
         "Samsung"
        ],
        [
         "8",
         "HP"
        ],
        [
         "9",
         "IBM"
        ],
        [
         "10",
         "Sony"
        ]
       ],
       "datasetInfos": [],
       "dbfsResultPath": null,
       "isJsonSchema": true,
       "metadata": {},
       "overflow": false,
       "plotOptions": {
        "customPlotOptions": {},
        "displayType": "table",
        "pivotAggregation": null,
        "pivotColumns": null,
        "xColumns": null,
        "yColumns": null
       },
       "removedWidgets": [],
       "schema": [
        {
         "metadata": "{}",
         "name": "ID",
         "type": "\"string\""
        },
        {
         "metadata": "{}",
         "name": "NOMBRE",
         "type": "\"string\""
        }
       ],
       "type": "table"
      }
     },
     "output_type": "display_data"
    }
   ],
   "source": [
    "df = spark.read.format(\"delta\").option(\"header\",\"true\").load(path_bronze)\n",
    "display(df)\n"
   ]
  },
  {
   "cell_type": "code",
   "execution_count": 0,
   "metadata": {
    "application/vnd.databricks.v1+cell": {
     "cellMetadata": {
      "byteLimit": 2048000,
      "rowLimit": 10000
     },
     "inputWidgets": {},
     "nuid": "0174a518-b710-46c1-804f-166773c7ae0f",
     "showTitle": false,
     "tableResultSettingsMap": {},
     "title": ""
    }
   },
   "outputs": [
    {
     "output_type": "display_data",
     "data": {
      "text/html": [
       "<style scoped>\n",
       "  .table-result-container {\n",
       "    max-height: 300px;\n",
       "    overflow: auto;\n",
       "  }\n",
       "  table, th, td {\n",
       "    border: 1px solid black;\n",
       "    border-collapse: collapse;\n",
       "  }\n",
       "  th, td {\n",
       "    padding: 5px;\n",
       "  }\n",
       "  th {\n",
       "    text-align: left;\n",
       "  }\n",
       "</style><div class='table-result-container'><table class='table-result'><thead style='background-color: white'><tr><th>ID</th><th>NOMBRE</th><th>PERIODO</th></tr></thead><tbody><tr><td>1</td><td>WALMART</td><td>202502</td></tr><tr><td>2</td><td>MICROSOFT</td><td>202502</td></tr><tr><td>3</td><td>APPLE</td><td>202502</td></tr><tr><td>4</td><td>TOYOTA</td><td>202502</td></tr><tr><td>5</td><td>AMAZON</td><td>202502</td></tr><tr><td>6</td><td>GOOGLE</td><td>202502</td></tr><tr><td>7</td><td>SAMSUNG</td><td>202502</td></tr><tr><td>8</td><td>HP</td><td>202502</td></tr><tr><td>9</td><td>IBM</td><td>202502</td></tr><tr><td>10</td><td>SONY</td><td>202502</td></tr></tbody></table></div>"
      ]
     },
     "metadata": {
      "application/vnd.databricks.v1+output": {
       "addedWidgets": {},
       "aggData": [],
       "aggError": "",
       "aggOverflow": false,
       "aggSchema": [],
       "aggSeriesLimitReached": false,
       "aggType": "",
       "arguments": {},
       "columnCustomDisplayInfos": {},
       "data": [
        [
         1,
         "WALMART",
         "202502"
        ],
        [
         2,
         "MICROSOFT",
         "202502"
        ],
        [
         3,
         "APPLE",
         "202502"
        ],
        [
         4,
         "TOYOTA",
         "202502"
        ],
        [
         5,
         "AMAZON",
         "202502"
        ],
        [
         6,
         "GOOGLE",
         "202502"
        ],
        [
         7,
         "SAMSUNG",
         "202502"
        ],
        [
         8,
         "HP",
         "202502"
        ],
        [
         9,
         "IBM",
         "202502"
        ],
        [
         10,
         "SONY",
         "202502"
        ]
       ],
       "datasetInfos": [],
       "dbfsResultPath": null,
       "isJsonSchema": true,
       "metadata": {},
       "overflow": false,
       "plotOptions": {
        "customPlotOptions": {},
        "displayType": "table",
        "pivotAggregation": null,
        "pivotColumns": null,
        "xColumns": null,
        "yColumns": null
       },
       "removedWidgets": [],
       "schema": [
        {
         "metadata": "{}",
         "name": "ID",
         "type": "\"integer\""
        },
        {
         "metadata": "{}",
         "name": "NOMBRE",
         "type": "\"string\""
        },
        {
         "metadata": "{}",
         "name": "PERIODO",
         "type": "\"string\""
        }
       ],
       "type": "table"
      }
     },
     "output_type": "display_data"
    }
   ],
   "source": [
    "df_t = df.withColumn('NOMBRE',upper(col('NOMBRE'))).withColumn(\"PERIODO\",date_format(add_months(current_date(),-1),\"yyyyMM\"))\n",
    "\n",
    "#display(df_t) \n",
    "\n",
    "df_c = df_t.withColumn('ID',col('ID').cast(IntegerType()))\n",
    "\n",
    "display(df_c)\n"
   ]
  },
  {
   "cell_type": "code",
   "execution_count": 0,
   "metadata": {
    "application/vnd.databricks.v1+cell": {
     "cellMetadata": {
      "byteLimit": 2048000,
      "rowLimit": 10000
     },
     "inputWidgets": {},
     "nuid": "ed2a2af6-2189-4d71-bff3-591961556220",
     "showTitle": false,
     "tableResultSettingsMap": {},
     "title": ""
    }
   },
   "outputs": [],
   "source": [
    "df_c.write.mode('overwrite').partitionBy('PERIODO').format('delta').save(path_silver)"
   ]
  }
 ],
 "metadata": {
  "application/vnd.databricks.v1+notebook": {
   "computePreferences": null,
   "dashboards": [],
   "environmentMetadata": {
    "base_environment": "",
    "environment_version": "1"
   },
   "inputWidgetPreferences": null,
   "language": "python",
   "notebookMetadata": {
    "pythonIndentUnit": 4
   },
   "notebookName": "dmc-silver-sap-empresas-process",
   "widgets": {}
  }
 },
 "nbformat": 4,
 "nbformat_minor": 0
}
