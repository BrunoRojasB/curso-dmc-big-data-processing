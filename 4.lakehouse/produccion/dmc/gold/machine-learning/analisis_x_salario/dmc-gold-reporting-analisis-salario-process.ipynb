{
 "cells": [
  {
   "cell_type": "code",
   "execution_count": 0,
   "metadata": {
    "application/vnd.databricks.v1+cell": {
     "cellMetadata": {
      "byteLimit": 2048000,
      "rowLimit": 10000
     },
     "inputWidgets": {},
     "nuid": "fc2f674e-2ba4-4298-b059-c1027898b1d8",
     "showTitle": false,
     "tableResultSettingsMap": {},
     "title": ""
    }
   },
   "outputs": [],
   "source": [
    "from pyspark.sql import SparkSession\n",
    "from pyspark.sql.types import *\n",
    "from pyspark.sql.functions import *"
   ]
  },
  {
   "cell_type": "code",
   "execution_count": 0,
   "metadata": {
    "application/vnd.databricks.v1+cell": {
     "cellMetadata": {
      "byteLimit": 2048000,
      "rowLimit": 10000
     },
     "inputWidgets": {},
     "nuid": "fae52fe3-2795-4d7b-aac8-098dce9bf406",
     "showTitle": false,
     "tableResultSettingsMap": {},
     "title": ""
    }
   },
   "outputs": [],
   "source": [
    "spark = SparkSession.builder.getOrCreate()"
   ]
  },
  {
   "cell_type": "code",
   "execution_count": 0,
   "metadata": {
    "application/vnd.databricks.v1+cell": {
     "cellMetadata": {
      "byteLimit": 2048000,
      "rowLimit": 10000
     },
     "inputWidgets": {},
     "nuid": "67a43cc4-47a0-433a-ba88-70d7514dedff",
     "showTitle": false,
     "tableResultSettingsMap": {},
     "title": ""
    }
   },
   "outputs": [],
   "source": [
    "name_bucket = \"dmc_dde_barb\"\n",
    "path_lakehouse = f\"gs://{name_bucket}/produccion/dmc\"\n",
    "path_silver_personas = f\"{path_lakehouse}/silver/personas/\"\n",
    "path_silver_empresas = f\"{path_lakehouse}/silver/empresas/\"\n",
    "path_gold = f\"{path_lakehouse}/gold/machine-learning/analisis-x-salario\"\n"
   ]
  },
  {
   "cell_type": "code",
   "execution_count": 0,
   "metadata": {
    "application/vnd.databricks.v1+cell": {
     "cellMetadata": {
      "byteLimit": 2048000,
      "rowLimit": 10000
     },
     "inputWidgets": {},
     "nuid": "0d8545c9-f356-41a2-9f36-4bca4d206a04",
     "showTitle": false,
     "tableResultSettingsMap": {},
     "title": ""
    }
   },
   "outputs": [
    {
     "output_type": "display_data",
     "data": {
      "text/html": [
       "<style scoped>\n",
       "  .table-result-container {\n",
       "    max-height: 300px;\n",
       "    overflow: auto;\n",
       "  }\n",
       "  table, th, td {\n",
       "    border: 1px solid black;\n",
       "    border-collapse: collapse;\n",
       "  }\n",
       "  th, td {\n",
       "    padding: 5px;\n",
       "  }\n",
       "  th {\n",
       "    text-align: left;\n",
       "  }\n",
       "</style><div class='table-result-container'><table class='table-result'><thead style='background-color: white'><tr><th>ID</th><th>NOMBRE</th><th>TELEFONO</th><th>CORREO</th><th>FECHA_INGRESO</th><th>EDAD</th><th>SALARIO</th><th>ID_EMPRESA</th><th>PERIODO</th><th>SEGMENTO</th><th>ANIO</th><th>MES</th><th>DIA</th></tr></thead><tbody><tr><td>1</td><td>Carl</td><td>17456339145</td><td>arcu.Sed.et@ante.co.uk</td><td>2004-04-23</td><td>32</td><td>20095.0</td><td>5</td><td>202502</td><td>Beyond</td><td>2004</td><td>4</td><td>23</td></tr><tr><td>2</td><td>Priscilla</td><td>1552498</td><td>Donec.egestas.Aliquam@volutpatnunc.edu</td><td>2019-02-17</td><td>34</td><td>9298.0</td><td>2</td><td>202502</td><td>Premiun</td><td>2019</td><td>2</td><td>17</td></tr><tr><td>3</td><td>Jocelyn</td><td>12049568594</td><td>amet.diam@lobortis.co.uk</td><td>2002-08-01</td><td>27</td><td>10853.0</td><td>3</td><td>202502</td><td>Beyond</td><td>2002</td><td>8</td><td>1</td></tr><tr><td>4</td><td>Aidan</td><td>17198629385</td><td>euismod.et.commodo@nibhlaciniaorci.edu</td><td>2018-11-06</td><td>29</td><td>3387.0</td><td>10</td><td>202502</td><td>Masivo</td><td>2018</td><td>11</td><td>6</td></tr><tr><td>5</td><td>Leandra</td><td>8398044</td><td>at@pretiumetrutrum.com</td><td>2002-10-10</td><td>41</td><td>22102.0</td><td>1</td><td>202502</td><td>Beyond</td><td>2002</td><td>10</td><td>10</td></tr><tr><td>6</td><td>Bert</td><td>7974453</td><td>a.felis.ullamcorper@arcu.org</td><td>2017-04-25</td><td>70</td><td>7800.0</td><td>7</td><td>202502</td><td>Premiun</td><td>2017</td><td>4</td><td>25</td></tr><tr><td>7</td><td>Mark</td><td>16801026792</td><td>Quisque.ac@placerat.ca</td><td>2006-04-21</td><td>52</td><td>8112.0</td><td>5</td><td>202502</td><td>Premiun</td><td>2006</td><td>4</td><td>21</td></tr><tr><td>8</td><td>Jonah</td><td>2142975</td><td>eu.ultrices.sit@vitae.ca</td><td>2017-10-07</td><td>23</td><td>17040.0</td><td>5</td><td>202502</td><td>Beyond</td><td>2017</td><td>10</td><td>7</td></tr><tr><td>9</td><td>Hanae</td><td>9352277</td><td>eu@Nunc.ca</td><td>2003-05-25</td><td>69</td><td>6834.0</td><td>3</td><td>202502</td><td>Premiun</td><td>2003</td><td>5</td><td>25</td></tr><tr><td>10</td><td>Cadman</td><td>18665612701</td><td>orci.adipiscing.non@semperNam.ca</td><td>2001-05-19</td><td>19</td><td>7996.0</td><td>7</td><td>202502</td><td>Premiun</td><td>2001</td><td>5</td><td>19</td></tr><tr><td>11</td><td>Melyssa</td><td>5967736</td><td>vel@vulputateposuerevulputate.net</td><td>2008-10-14</td><td>48</td><td>4913.0</td><td>8</td><td>202502</td><td>Premiun</td><td>2008</td><td>10</td><td>14</td></tr><tr><td>12</td><td>Tanner</td><td>17397767897</td><td>arcu.Aliquam.ultrices@sociis.com</td><td>2011-05-10</td><td>24</td><td>19943.0</td><td>8</td><td>202502</td><td>Beyond</td><td>2011</td><td>5</td><td>10</td></tr><tr><td>13</td><td>Trevor</td><td>5121955</td><td>Nunc.quis.arcu@egestasa.org</td><td>2010-08-06</td><td>34</td><td>9501.0</td><td>5</td><td>202502</td><td>Premiun</td><td>2010</td><td>8</td><td>6</td></tr><tr><td>14</td><td>Allen</td><td>7332795</td><td>felis.Donec@necleo.org</td><td>2005-03-07</td><td>59</td><td>16289.0</td><td>2</td><td>202502</td><td>Beyond</td><td>2005</td><td>3</td><td>7</td></tr><tr><td>15</td><td>Wanda</td><td>3596973</td><td>Nam.nulla.magna@In.org</td><td>2005-08-21</td><td>27</td><td>1539.0</td><td>5</td><td>202502</td><td>Masivo</td><td>2005</td><td>8</td><td>21</td></tr><tr><td>16</td><td>Alden</td><td>3418522</td><td>odio@morbitristiquesenectus.ca</td><td>2006-12-05</td><td>26</td><td>3377.0</td><td>2</td><td>202502</td><td>Masivo</td><td>2006</td><td>12</td><td>5</td></tr><tr><td>17</td><td>Omar</td><td>7201543</td><td>Phasellus.vitae.mauris@sollicitudin.net</td><td>2014-06-24</td><td>60</td><td>6851.0</td><td>6</td><td>202502</td><td>Premiun</td><td>2014</td><td>6</td><td>24</td></tr><tr><td>18</td><td>Owen</td><td>11673357541</td><td>sociis@erat.com</td><td>2002-04-09</td><td>34</td><td>4759.0</td><td>7</td><td>202502</td><td>Premiun</td><td>2002</td><td>4</td><td>9</td></tr><tr><td>19</td><td>Laura</td><td>19746232057</td><td>mollis@ornare.ca</td><td>2017-03-09</td><td>70</td><td>17403.0</td><td>4</td><td>202502</td><td>Beyond</td><td>2017</td><td>3</td><td>9</td></tr><tr><td>20</td><td>Emery</td><td>16728400264</td><td>at.nisi@vel.org</td><td>2004-02-27</td><td>24</td><td>18752.0</td><td>9</td><td>202502</td><td>Beyond</td><td>2004</td><td>2</td><td>27</td></tr><tr><td>21</td><td>Carissa</td><td>13008770859</td><td>dignissim.pharetra.Nam@Pellentesqueultriciesdignissim.com</td><td>2011-10-16</td><td>31</td><td>1952.0</td><td>10</td><td>202502</td><td>Masivo</td><td>2011</td><td>10</td><td>16</td></tr><tr><td>22</td><td>Kibo</td><td>9708006</td><td>scelerisque.lorem@mattis.org</td><td>2012-04-25</td><td>22</td><td>7449.0</td><td>2</td><td>202502</td><td>Premiun</td><td>2012</td><td>4</td><td>25</td></tr><tr><td>23</td><td>Samson</td><td>14301886663</td><td>urna.justo.faucibus@neceleifendnon.net</td><td>2011-12-15</td><td>51</td><td>8099.0</td><td>6</td><td>202502</td><td>Premiun</td><td>2011</td><td>12</td><td>15</td></tr><tr><td>24</td><td>Amaya</td><td>14488269497</td><td>ullamcorper.magna@dictumultriciesligula.org</td><td>2000-09-18</td><td>24</td><td>1801.0</td><td>8</td><td>202502</td><td>Masivo</td><td>2000</td><td>9</td><td>18</td></tr><tr><td>25</td><td>Pearl</td><td>18502023373</td><td>vel.convallis@rhoncus.co.uk</td><td>2018-12-21</td><td>52</td><td>14756.0</td><td>6</td><td>202502</td><td>Beyond</td><td>2018</td><td>12</td><td>21</td></tr><tr><td>26</td><td>Brenden</td><td>14557269413</td><td>elit.pede.malesuada@liberomaurisaliquam.org</td><td>2000-03-17</td><td>33</td><td>20549.0</td><td>7</td><td>202502</td><td>Beyond</td><td>2000</td><td>3</td><td>17</td></tr><tr><td>27</td><td>Alexander</td><td>9120676</td><td>semper.auctor.Mauris@mollislectuspede.edu</td><td>2000-08-16</td><td>55</td><td>13813.0</td><td>6</td><td>202502</td><td>Beyond</td><td>2000</td><td>8</td><td>16</td></tr><tr><td>28</td><td>Stephen</td><td>3262020</td><td>arcu.Aliquam.ultrices@acnullaIn.co.uk</td><td>2016-09-04</td><td>53</td><td>9469.0</td><td>8</td><td>202502</td><td>Premiun</td><td>2016</td><td>9</td><td>4</td></tr><tr><td>29</td><td>Jana</td><td>15641065562</td><td>sed.dolor.Fusce@Sedet.co.uk</td><td>2008-10-18</td><td>39</td><td>6483.0</td><td>2</td><td>202502</td><td>Premiun</td><td>2008</td><td>10</td><td>18</td></tr><tr><td>30</td><td>Clayton</td><td>15996145185</td><td>est.Nunc@dictumeuplacerat.com</td><td>2008-10-08</td><td>52</td><td>9505.0</td><td>8</td><td>202502</td><td>Premiun</td><td>2008</td><td>10</td><td>8</td></tr><tr><td>31</td><td>Rylee</td><td>3065447</td><td>Sed.nunc@turpis.edu</td><td>2001-09-17</td><td>47</td><td>21591.0</td><td>3</td><td>202502</td><td>Beyond</td><td>2001</td><td>9</td><td>17</td></tr><tr><td>32</td><td>Gisela</td><td>4068031</td><td>Praesent.luctus@dui.co.uk</td><td>2002-08-21</td><td>67</td><td>6497.0</td><td>1</td><td>202502</td><td>Premiun</td><td>2002</td><td>8</td><td>21</td></tr><tr><td>33</td><td>Jin</td><td>16207793366</td><td>est.Nunc.ullamcorper@nullaInteger.co.uk</td><td>2016-11-07</td><td>42</td><td>22038.0</td><td>2</td><td>202502</td><td>Beyond</td><td>2016</td><td>11</td><td>7</td></tr><tr><td>34</td><td>Lila</td><td>17037774150</td><td>viverra@sit.edu</td><td>2015-02-26</td><td>48</td><td>24305.0</td><td>4</td><td>202502</td><td>Beyond</td><td>2015</td><td>2</td><td>26</td></tr><tr><td>35</td><td>Aurora</td><td>18657513479</td><td>magna@Cras.net</td><td>2017-10-21</td><td>54</td><td>4588.0</td><td>5</td><td>202502</td><td>Premiun</td><td>2017</td><td>10</td><td>21</td></tr><tr><td>36</td><td>Keely</td><td>18824033531</td><td>taciti@neceleifendnon.edu</td><td>2008-02-03</td><td>41</td><td>10373.0</td><td>9</td><td>202502</td><td>Beyond</td><td>2008</td><td>2</td><td>3</td></tr><tr><td>37</td><td>Inga</td><td>7676448</td><td>Mauris.quis.turpis@euismodurna.net</td><td>2016-12-31</td><td>41</td><td>8562.0</td><td>3</td><td>202502</td><td>Premiun</td><td>2016</td><td>12</td><td>31</td></tr><tr><td>38</td><td>Irma</td><td>7228997</td><td>ac.urna.Ut@a.ca</td><td>2013-10-14</td><td>58</td><td>6747.0</td><td>8</td><td>202502</td><td>Premiun</td><td>2013</td><td>10</td><td>14</td></tr><tr><td>39</td><td>Carolyn</td><td>8467060</td><td>metus.Aenean.sed@odiosempercursus.ca</td><td>2013-05-29</td><td>64</td><td>22838.0</td><td>6</td><td>202502</td><td>Beyond</td><td>2013</td><td>5</td><td>29</td></tr><tr><td>40</td><td>Ross</td><td>3870945</td><td>amet.faucibus@ipsum.edu</td><td>2009-07-27</td><td>67</td><td>14285.0</td><td>3</td><td>202502</td><td>Beyond</td><td>2009</td><td>7</td><td>27</td></tr><tr><td>41</td><td>Wynne</td><td>7110298</td><td>eget@dolorQuisque.ca</td><td>2007-07-24</td><td>31</td><td>19522.0</td><td>4</td><td>202502</td><td>Beyond</td><td>2007</td><td>7</td><td>24</td></tr><tr><td>42</td><td>Wanda</td><td>9413970</td><td>auctor.velit@sem.com</td><td>2011-12-12</td><td>42</td><td>5419.0</td><td>9</td><td>202502</td><td>Premiun</td><td>2011</td><td>12</td><td>12</td></tr><tr><td>43</td><td>Yetta</td><td>9860220</td><td>vitae@dapibusrutrumjusto.co.uk</td><td>2008-03-24</td><td>61</td><td>21452.0</td><td>2</td><td>202502</td><td>Beyond</td><td>2008</td><td>3</td><td>24</td></tr><tr><td>44</td><td>Azalia</td><td>5828465</td><td>eu.odio@a.co.uk</td><td>2009-12-14</td><td>27</td><td>16735.0</td><td>10</td><td>202502</td><td>Beyond</td><td>2009</td><td>12</td><td>14</td></tr><tr><td>45</td><td>Kylynn</td><td>14274638734</td><td>porttitor.eros.nec@Integer.net</td><td>2006-12-19</td><td>22</td><td>7040.0</td><td>7</td><td>202502</td><td>Premiun</td><td>2006</td><td>12</td><td>19</td></tr><tr><td>46</td><td>Camden</td><td>16635403304</td><td>leo@dignissimpharetraNam.net</td><td>2003-10-19</td><td>30</td><td>7860.0</td><td>10</td><td>202502</td><td>Premiun</td><td>2003</td><td>10</td><td>19</td></tr><tr><td>47</td><td>Vernon</td><td>7358400</td><td>leo@mattisIntegereu.net</td><td>2000-11-23</td><td>35</td><td>7109.0</td><td>10</td><td>202502</td><td>Premiun</td><td>2000</td><td>11</td><td>23</td></tr><tr><td>48</td><td>Illiana</td><td>5723648</td><td>montes.nascetur.ridiculus@hendreritneque.co.uk</td><td>2017-07-25</td><td>18</td><td>1454.0</td><td>8</td><td>202502</td><td>Masivo</td><td>2017</td><td>7</td><td>25</td></tr><tr><td>49</td><td>Logan</td><td>7067700</td><td>neque@sedpede.net</td><td>2008-03-07</td><td>63</td><td>4963.0</td><td>7</td><td>202502</td><td>Premiun</td><td>2008</td><td>3</td><td>7</td></tr><tr><td>50</td><td>Ross</td><td>15872851837</td><td>at.risus@milaciniamattis.com</td><td>2009-11-03</td><td>31</td><td>19092.0</td><td>5</td><td>202502</td><td>Beyond</td><td>2009</td><td>11</td><td>3</td></tr><tr><td>51</td><td>Damon</td><td>3687630</td><td>nunc@dapibusquamquis.co.uk</td><td>2016-08-11</td><td>49</td><td>2669.0</td><td>5</td><td>202502</td><td>Masivo</td><td>2016</td><td>8</td><td>11</td></tr><tr><td>52</td><td>Whoopi</td><td>16715525009</td><td>semper@Cras.ca</td><td>2019-01-21</td><td>22</td><td>23051.0</td><td>9</td><td>202502</td><td>Beyond</td><td>2019</td><td>1</td><td>21</td></tr><tr><td>53</td><td>Zachery</td><td>3148083</td><td>hymenaeos.Mauris@mollis.ca</td><td>2001-01-06</td><td>22</td><td>23820.0</td><td>3</td><td>202502</td><td>Beyond</td><td>2001</td><td>1</td><td>6</td></tr><tr><td>54</td><td>Lars</td><td>15546000855</td><td>commodo@Nam.edu</td><td>2005-06-22</td><td>25</td><td>20573.0</td><td>1</td><td>202502</td><td>Beyond</td><td>2005</td><td>6</td><td>22</td></tr><tr><td>55</td><td>Jennifer</td><td>7556162</td><td>id@ultrices.com</td><td>2011-10-19</td><td>64</td><td>19013.0</td><td>9</td><td>202502</td><td>Beyond</td><td>2011</td><td>10</td><td>19</td></tr><tr><td>56</td><td>Colby</td><td>15178278614</td><td>nec.ligula@euneque.ca</td><td>2014-03-05</td><td>19</td><td>15496.0</td><td>7</td><td>202502</td><td>Beyond</td><td>2014</td><td>3</td><td>5</td></tr><tr><td>57</td><td>Jillian</td><td>12862850336</td><td>ipsum@luctus.org</td><td>2006-06-02</td><td>47</td><td>13445.0</td><td>8</td><td>202502</td><td>Beyond</td><td>2006</td><td>6</td><td>2</td></tr><tr><td>58</td><td>Igor</td><td>13616038276</td><td>mattis.Integer.eu@hendreritconsectetuer.net</td><td>2003-07-18</td><td>37</td><td>6191.0</td><td>3</td><td>202502</td><td>Premiun</td><td>2003</td><td>7</td><td>18</td></tr><tr><td>59</td><td>Quemby</td><td>9305882</td><td>lorem.ut.aliquam@nuncsed.org</td><td>2017-10-04</td><td>26</td><td>12092.0</td><td>5</td><td>202502</td><td>Beyond</td><td>2017</td><td>10</td><td>4</td></tr><tr><td>60</td><td>Bernard</td><td>4928823</td><td>vel.faucibus@Donec.edu</td><td>2005-04-15</td><td>27</td><td>10825.0</td><td>2</td><td>202502</td><td>Beyond</td><td>2005</td><td>4</td><td>15</td></tr><tr><td>61</td><td>Abel</td><td>12355305916</td><td>Curae@afacilisis.org</td><td>2011-11-08</td><td>33</td><td>15070.0</td><td>9</td><td>202502</td><td>Beyond</td><td>2011</td><td>11</td><td>8</td></tr><tr><td>62</td><td>Amelia</td><td>1199184</td><td>Donec.egestas.Aliquam@turpisvitae.co.uk</td><td>2016-01-15</td><td>35</td><td>6042.0</td><td>8</td><td>202502</td><td>Premiun</td><td>2016</td><td>1</td><td>15</td></tr><tr><td>63</td><td>Sade</td><td>1125494</td><td>In@utquam.com</td><td>2012-04-05</td><td>70</td><td>11112.0</td><td>6</td><td>202502</td><td>Beyond</td><td>2012</td><td>4</td><td>5</td></tr><tr><td>64</td><td>Graiden</td><td>8744897</td><td>massa.Mauris.vestibulum@sitamet.co.uk</td><td>2010-06-10</td><td>28</td><td>22037.0</td><td>3</td><td>202502</td><td>Beyond</td><td>2010</td><td>6</td><td>10</td></tr><tr><td>65</td><td>Nehru</td><td>1429576</td><td>nibh@sagittis.org</td><td>2017-08-13</td><td>34</td><td>12423.0</td><td>4</td><td>202502</td><td>Beyond</td><td>2017</td><td>8</td><td>13</td></tr><tr><td>66</td><td>Adrian</td><td>2208905</td><td>enim@mollisPhasellus.com</td><td>2018-03-15</td><td>46</td><td>22953.0</td><td>2</td><td>202502</td><td>Beyond</td><td>2018</td><td>3</td><td>15</td></tr><tr><td>67</td><td>Buffy</td><td>15381902276</td><td>amet@at.ca</td><td>2005-10-21</td><td>38</td><td>15116.0</td><td>2</td><td>202502</td><td>Beyond</td><td>2005</td><td>10</td><td>21</td></tr><tr><td>68</td><td>Hayes</td><td>7128783</td><td>at@ametdiam.net</td><td>2011-12-31</td><td>31</td><td>7523.0</td><td>5</td><td>202502</td><td>Premiun</td><td>2011</td><td>12</td><td>31</td></tr><tr><td>69</td><td>Halee</td><td>12089968549</td><td>interdum.feugiat@imperdietornare.edu</td><td>2008-12-25</td><td>30</td><td>16782.0</td><td>3</td><td>202502</td><td>Beyond</td><td>2008</td><td>12</td><td>25</td></tr><tr><td>70</td><td>Suki</td><td>16544188537</td><td>varius.orci.in@congueelit.co.uk</td><td>2010-05-15</td><td>43</td><td>12029.0</td><td>1</td><td>202502</td><td>Beyond</td><td>2010</td><td>5</td><td>15</td></tr><tr><td>71</td><td>Doris</td><td>5088624</td><td>Curabitur.vel.lectus@mauris.co.uk</td><td>2005-04-28</td><td>23</td><td>11538.0</td><td>6</td><td>202502</td><td>Beyond</td><td>2005</td><td>4</td><td>28</td></tr><tr><td>72</td><td>Tallulah</td><td>13147208141</td><td>non@idmagnaet.ca</td><td>2000-04-03</td><td>46</td><td>9867.0</td><td>5</td><td>202502</td><td>Premiun</td><td>2000</td><td>4</td><td>3</td></tr><tr><td>73</td><td>Fiona</td><td>18662588730</td><td>sit@sedsemegestas.net</td><td>2009-09-27</td><td>42</td><td>9960.0</td><td>10</td><td>202502</td><td>Premiun</td><td>2009</td><td>9</td><td>27</td></tr><tr><td>74</td><td>Kaitlin</td><td>8170415</td><td>Etiam.laoreet.libero@odiosagittissemper.net</td><td>2009-05-22</td><td>56</td><td>6515.0</td><td>10</td><td>202502</td><td>Premiun</td><td>2009</td><td>5</td><td>22</td></tr><tr><td>75</td><td>Nyssa</td><td>3620379</td><td>nisi.sem.semper@egestasligulaNullam.edu</td><td>2002-04-29</td><td>53</td><td>2284.0</td><td>6</td><td>202502</td><td>Masivo</td><td>2002</td><td>4</td><td>29</td></tr><tr><td>76</td><td>Omar</td><td>13252459578</td><td>elit.erat@utodiovel.co.uk</td><td>2012-11-19</td><td>34</td><td>12163.0</td><td>6</td><td>202502</td><td>Beyond</td><td>2012</td><td>11</td><td>19</td></tr><tr><td>77</td><td>Brynne</td><td>13579778936</td><td>aliquet.nec.imperdiet@euismod.org</td><td>2013-06-04</td><td>22</td><td>16551.0</td><td>7</td><td>202502</td><td>Beyond</td><td>2013</td><td>6</td><td>4</td></tr><tr><td>78</td><td>Lenore</td><td>18179735592</td><td>Nunc.pulvinar.arcu@Duisatlacus.co.uk</td><td>2014-07-07</td><td>57</td><td>1483.0</td><td>2</td><td>202502</td><td>Masivo</td><td>2014</td><td>7</td><td>7</td></tr><tr><td>79</td><td>Philip</td><td>11135283055</td><td>nisi.Cum@malesuadavel.edu</td><td>2012-09-17</td><td>51</td><td>3919.0</td><td>10</td><td>202502</td><td>Premiun</td><td>2012</td><td>9</td><td>17</td></tr><tr><td>80</td><td>Ebony</td><td>12913604704</td><td>parturient.montes.nascetur@vitaeerat.com</td><td>2014-05-22</td><td>59</td><td>3600.0</td><td>6</td><td>202502</td><td>Premiun</td><td>2014</td><td>5</td><td>22</td></tr><tr><td>81</td><td>Joy</td><td>13793840646</td><td>mi.Aliquam@nislNulla.org</td><td>2015-11-15</td><td>19</td><td>1256.0</td><td>2</td><td>202502</td><td>Masivo</td><td>2015</td><td>11</td><td>15</td></tr><tr><td>82</td><td>Cally</td><td>16588905167</td><td>id@dolor.edu</td><td>2008-12-13</td><td>67</td><td>24575.0</td><td>10</td><td>202502</td><td>Beyond</td><td>2008</td><td>12</td><td>13</td></tr><tr><td>83</td><td>Giselle</td><td>15157996913</td><td>ipsum.Suspendisse.sagittis@Innec.org</td><td>2002-10-31</td><td>45</td><td>2503.0</td><td>2</td><td>202502</td><td>Masivo</td><td>2002</td><td>10</td><td>31</td></tr><tr><td>84</td><td>Keith</td><td>13192819980</td><td>augue.ac@Nulla.co.uk</td><td>2008-01-03</td><td>33</td><td>13348.0</td><td>4</td><td>202502</td><td>Beyond</td><td>2008</td><td>1</td><td>3</td></tr><tr><td>85</td><td>Kennedy</td><td>5960668</td><td>nibh.sit@famesac.ca</td><td>2011-04-25</td><td>41</td><td>7272.0</td><td>3</td><td>202502</td><td>Premiun</td><td>2011</td><td>4</td><td>25</td></tr><tr><td>86</td><td>Jack</td><td>8609554</td><td>parturient.montes.nascetur@dui.com</td><td>2017-03-10</td><td>58</td><td>14473.0</td><td>5</td><td>202502</td><td>Beyond</td><td>2017</td><td>3</td><td>10</td></tr><tr><td>87</td><td>Karly</td><td>16447257241</td><td>tempor.erat@feugiatnon.ca</td><td>2011-06-12</td><td>25</td><td>3715.0</td><td>1</td><td>202502</td><td>Premiun</td><td>2011</td><td>6</td><td>12</td></tr><tr><td>88</td><td>Zeus</td><td>15253615753</td><td>non.magna.Nam@nuncid.org</td><td>2000-09-15</td><td>29</td><td>21556.0</td><td>7</td><td>202502</td><td>Beyond</td><td>2000</td><td>9</td><td>15</td></tr><tr><td>89</td><td>Kelly</td><td>4309134</td><td>turpis.In@egestasFusce.ca</td><td>2016-04-01</td><td>55</td><td>10110.0</td><td>6</td><td>202502</td><td>Beyond</td><td>2016</td><td>4</td><td>1</td></tr><tr><td>90</td><td>Sigourney</td><td>5988806</td><td>sit.amet@sem.net</td><td>2002-05-02</td><td>42</td><td>9145.0</td><td>6</td><td>202502</td><td>Premiun</td><td>2002</td><td>5</td><td>2</td></tr><tr><td>91</td><td>Erica</td><td>13203392705</td><td>tristique.senectus@eleifendnondapibus.org</td><td>2015-02-23</td><td>32</td><td>8934.0</td><td>6</td><td>202502</td><td>Premiun</td><td>2015</td><td>2</td><td>23</td></tr><tr><td>92</td><td>Lesley</td><td>9734902</td><td>felis.adipiscing.fringilla@Proinvelnisl.co.uk</td><td>2004-02-29</td><td>19</td><td>23547.0</td><td>4</td><td>202502</td><td>Beyond</td><td>2004</td><td>2</td><td>29</td></tr><tr><td>93</td><td>Althea</td><td>11637021244</td><td>sit.amet.nulla@elit.co.uk</td><td>2002-09-01</td><td>24</td><td>8818.0</td><td>1</td><td>202502</td><td>Premiun</td><td>2002</td><td>9</td><td>1</td></tr><tr><td>94</td><td>Amir</td><td>12217170093</td><td>dapibus.ligula@faucibuslectus.com</td><td>2001-02-11</td><td>18</td><td>20980.0</td><td>4</td><td>202502</td><td>Beyond</td><td>2001</td><td>2</td><td>11</td></tr><tr><td>95</td><td>Jayme</td><td>16411138418</td><td>ornare.Fusce@tinciduntcongueturpis.co.uk</td><td>2002-05-31</td><td>58</td><td>23975.0</td><td>4</td><td>202502</td><td>Beyond</td><td>2002</td><td>5</td><td>31</td></tr><tr><td>96</td><td>Amos</td><td>7294665</td><td>non.lacinia@pharetra.net</td><td>2017-11-27</td><td>42</td><td>15855.0</td><td>2</td><td>202502</td><td>Beyond</td><td>2017</td><td>11</td><td>27</td></tr><tr><td>97</td><td>Flavia</td><td>15592707164</td><td>erat.vel.pede@sedtortor.co.uk</td><td>2004-11-14</td><td>27</td><td>13473.0</td><td>3</td><td>202502</td><td>Beyond</td><td>2004</td><td>11</td><td>14</td></tr><tr><td>98</td><td>Yuli</td><td>7729996</td><td>sagittis@nisl.com</td><td>2005-04-17</td><td>57</td><td>1336.0</td><td>5</td><td>202502</td><td>Masivo</td><td>2005</td><td>4</td><td>17</td></tr><tr><td>99</td><td>Ray</td><td>14203142886</td><td>ac.risus.Morbi@telluseuaugue.org</td><td>2011-12-30</td><td>26</td><td>5570.0</td><td>1</td><td>202502</td><td>Premiun</td><td>2011</td><td>12</td><td>30</td></tr><tr><td>100</td><td>Cynthia</td><td>1489696</td><td>justo.nec.ante@tinciduntvehicula.org</td><td>2008-01-23</td><td>57</td><td>8682.0</td><td>5</td><td>202502</td><td>Premiun</td><td>2008</td><td>1</td><td>23</td></tr></tbody></table></div>"
      ]
     },
     "metadata": {
      "application/vnd.databricks.v1+output": {
       "addedWidgets": {},
       "aggData": [],
       "aggError": "",
       "aggOverflow": false,
       "aggSchema": [],
       "aggSeriesLimitReached": false,
       "aggType": "",
       "arguments": {},
       "columnCustomDisplayInfos": {},
       "data": [
        [
         1,
         "Carl",
         "17456339145",
         "arcu.Sed.et@ante.co.uk",
         "2004-04-23",
         32,
         20095.0,
         5,
         "202502",
         "Beyond",
         2004,
         4,
         23
        ],
        [
         2,
         "Priscilla",
         "1552498",
         "Donec.egestas.Aliquam@volutpatnunc.edu",
         "2019-02-17",
         34,
         9298.0,
         2,
         "202502",
         "Premiun",
         2019,
         2,
         17
        ],
        [
         3,
         "Jocelyn",
         "12049568594",
         "amet.diam@lobortis.co.uk",
         "2002-08-01",
         27,
         10853.0,
         3,
         "202502",
         "Beyond",
         2002,
         8,
         1
        ],
        [
         4,
         "Aidan",
         "17198629385",
         "euismod.et.commodo@nibhlaciniaorci.edu",
         "2018-11-06",
         29,
         3387.0,
         10,
         "202502",
         "Masivo",
         2018,
         11,
         6
        ],
        [
         5,
         "Leandra",
         "8398044",
         "at@pretiumetrutrum.com",
         "2002-10-10",
         41,
         22102.0,
         1,
         "202502",
         "Beyond",
         2002,
         10,
         10
        ],
        [
         6,
         "Bert",
         "7974453",
         "a.felis.ullamcorper@arcu.org",
         "2017-04-25",
         70,
         7800.0,
         7,
         "202502",
         "Premiun",
         2017,
         4,
         25
        ],
        [
         7,
         "Mark",
         "16801026792",
         "Quisque.ac@placerat.ca",
         "2006-04-21",
         52,
         8112.0,
         5,
         "202502",
         "Premiun",
         2006,
         4,
         21
        ],
        [
         8,
         "Jonah",
         "2142975",
         "eu.ultrices.sit@vitae.ca",
         "2017-10-07",
         23,
         17040.0,
         5,
         "202502",
         "Beyond",
         2017,
         10,
         7
        ],
        [
         9,
         "Hanae",
         "9352277",
         "eu@Nunc.ca",
         "2003-05-25",
         69,
         6834.0,
         3,
         "202502",
         "Premiun",
         2003,
         5,
         25
        ],
        [
         10,
         "Cadman",
         "18665612701",
         "orci.adipiscing.non@semperNam.ca",
         "2001-05-19",
         19,
         7996.0,
         7,
         "202502",
         "Premiun",
         2001,
         5,
         19
        ],
        [
         11,
         "Melyssa",
         "5967736",
         "vel@vulputateposuerevulputate.net",
         "2008-10-14",
         48,
         4913.0,
         8,
         "202502",
         "Premiun",
         2008,
         10,
         14
        ],
        [
         12,
         "Tanner",
         "17397767897",
         "arcu.Aliquam.ultrices@sociis.com",
         "2011-05-10",
         24,
         19943.0,
         8,
         "202502",
         "Beyond",
         2011,
         5,
         10
        ],
        [
         13,
         "Trevor",
         "5121955",
         "Nunc.quis.arcu@egestasa.org",
         "2010-08-06",
         34,
         9501.0,
         5,
         "202502",
         "Premiun",
         2010,
         8,
         6
        ],
        [
         14,
         "Allen",
         "7332795",
         "felis.Donec@necleo.org",
         "2005-03-07",
         59,
         16289.0,
         2,
         "202502",
         "Beyond",
         2005,
         3,
         7
        ],
        [
         15,
         "Wanda",
         "3596973",
         "Nam.nulla.magna@In.org",
         "2005-08-21",
         27,
         1539.0,
         5,
         "202502",
         "Masivo",
         2005,
         8,
         21
        ],
        [
         16,
         "Alden",
         "3418522",
         "odio@morbitristiquesenectus.ca",
         "2006-12-05",
         26,
         3377.0,
         2,
         "202502",
         "Masivo",
         2006,
         12,
         5
        ],
        [
         17,
         "Omar",
         "7201543",
         "Phasellus.vitae.mauris@sollicitudin.net",
         "2014-06-24",
         60,
         6851.0,
         6,
         "202502",
         "Premiun",
         2014,
         6,
         24
        ],
        [
         18,
         "Owen",
         "11673357541",
         "sociis@erat.com",
         "2002-04-09",
         34,
         4759.0,
         7,
         "202502",
         "Premiun",
         2002,
         4,
         9
        ],
        [
         19,
         "Laura",
         "19746232057",
         "mollis@ornare.ca",
         "2017-03-09",
         70,
         17403.0,
         4,
         "202502",
         "Beyond",
         2017,
         3,
         9
        ],
        [
         20,
         "Emery",
         "16728400264",
         "at.nisi@vel.org",
         "2004-02-27",
         24,
         18752.0,
         9,
         "202502",
         "Beyond",
         2004,
         2,
         27
        ],
        [
         21,
         "Carissa",
         "13008770859",
         "dignissim.pharetra.Nam@Pellentesqueultriciesdignissim.com",
         "2011-10-16",
         31,
         1952.0,
         10,
         "202502",
         "Masivo",
         2011,
         10,
         16
        ],
        [
         22,
         "Kibo",
         "9708006",
         "scelerisque.lorem@mattis.org",
         "2012-04-25",
         22,
         7449.0,
         2,
         "202502",
         "Premiun",
         2012,
         4,
         25
        ],
        [
         23,
         "Samson",
         "14301886663",
         "urna.justo.faucibus@neceleifendnon.net",
         "2011-12-15",
         51,
         8099.0,
         6,
         "202502",
         "Premiun",
         2011,
         12,
         15
        ],
        [
         24,
         "Amaya",
         "14488269497",
         "ullamcorper.magna@dictumultriciesligula.org",
         "2000-09-18",
         24,
         1801.0,
         8,
         "202502",
         "Masivo",
         2000,
         9,
         18
        ],
        [
         25,
         "Pearl",
         "18502023373",
         "vel.convallis@rhoncus.co.uk",
         "2018-12-21",
         52,
         14756.0,
         6,
         "202502",
         "Beyond",
         2018,
         12,
         21
        ],
        [
         26,
         "Brenden",
         "14557269413",
         "elit.pede.malesuada@liberomaurisaliquam.org",
         "2000-03-17",
         33,
         20549.0,
         7,
         "202502",
         "Beyond",
         2000,
         3,
         17
        ],
        [
         27,
         "Alexander",
         "9120676",
         "semper.auctor.Mauris@mollislectuspede.edu",
         "2000-08-16",
         55,
         13813.0,
         6,
         "202502",
         "Beyond",
         2000,
         8,
         16
        ],
        [
         28,
         "Stephen",
         "3262020",
         "arcu.Aliquam.ultrices@acnullaIn.co.uk",
         "2016-09-04",
         53,
         9469.0,
         8,
         "202502",
         "Premiun",
         2016,
         9,
         4
        ],
        [
         29,
         "Jana",
         "15641065562",
         "sed.dolor.Fusce@Sedet.co.uk",
         "2008-10-18",
         39,
         6483.0,
         2,
         "202502",
         "Premiun",
         2008,
         10,
         18
        ],
        [
         30,
         "Clayton",
         "15996145185",
         "est.Nunc@dictumeuplacerat.com",
         "2008-10-08",
         52,
         9505.0,
         8,
         "202502",
         "Premiun",
         2008,
         10,
         8
        ],
        [
         31,
         "Rylee",
         "3065447",
         "Sed.nunc@turpis.edu",
         "2001-09-17",
         47,
         21591.0,
         3,
         "202502",
         "Beyond",
         2001,
         9,
         17
        ],
        [
         32,
         "Gisela",
         "4068031",
         "Praesent.luctus@dui.co.uk",
         "2002-08-21",
         67,
         6497.0,
         1,
         "202502",
         "Premiun",
         2002,
         8,
         21
        ],
        [
         33,
         "Jin",
         "16207793366",
         "est.Nunc.ullamcorper@nullaInteger.co.uk",
         "2016-11-07",
         42,
         22038.0,
         2,
         "202502",
         "Beyond",
         2016,
         11,
         7
        ],
        [
         34,
         "Lila",
         "17037774150",
         "viverra@sit.edu",
         "2015-02-26",
         48,
         24305.0,
         4,
         "202502",
         "Beyond",
         2015,
         2,
         26
        ],
        [
         35,
         "Aurora",
         "18657513479",
         "magna@Cras.net",
         "2017-10-21",
         54,
         4588.0,
         5,
         "202502",
         "Premiun",
         2017,
         10,
         21
        ],
        [
         36,
         "Keely",
         "18824033531",
         "taciti@neceleifendnon.edu",
         "2008-02-03",
         41,
         10373.0,
         9,
         "202502",
         "Beyond",
         2008,
         2,
         3
        ],
        [
         37,
         "Inga",
         "7676448",
         "Mauris.quis.turpis@euismodurna.net",
         "2016-12-31",
         41,
         8562.0,
         3,
         "202502",
         "Premiun",
         2016,
         12,
         31
        ],
        [
         38,
         "Irma",
         "7228997",
         "ac.urna.Ut@a.ca",
         "2013-10-14",
         58,
         6747.0,
         8,
         "202502",
         "Premiun",
         2013,
         10,
         14
        ],
        [
         39,
         "Carolyn",
         "8467060",
         "metus.Aenean.sed@odiosempercursus.ca",
         "2013-05-29",
         64,
         22838.0,
         6,
         "202502",
         "Beyond",
         2013,
         5,
         29
        ],
        [
         40,
         "Ross",
         "3870945",
         "amet.faucibus@ipsum.edu",
         "2009-07-27",
         67,
         14285.0,
         3,
         "202502",
         "Beyond",
         2009,
         7,
         27
        ],
        [
         41,
         "Wynne",
         "7110298",
         "eget@dolorQuisque.ca",
         "2007-07-24",
         31,
         19522.0,
         4,
         "202502",
         "Beyond",
         2007,
         7,
         24
        ],
        [
         42,
         "Wanda",
         "9413970",
         "auctor.velit@sem.com",
         "2011-12-12",
         42,
         5419.0,
         9,
         "202502",
         "Premiun",
         2011,
         12,
         12
        ],
        [
         43,
         "Yetta",
         "9860220",
         "vitae@dapibusrutrumjusto.co.uk",
         "2008-03-24",
         61,
         21452.0,
         2,
         "202502",
         "Beyond",
         2008,
         3,
         24
        ],
        [
         44,
         "Azalia",
         "5828465",
         "eu.odio@a.co.uk",
         "2009-12-14",
         27,
         16735.0,
         10,
         "202502",
         "Beyond",
         2009,
         12,
         14
        ],
        [
         45,
         "Kylynn",
         "14274638734",
         "porttitor.eros.nec@Integer.net",
         "2006-12-19",
         22,
         7040.0,
         7,
         "202502",
         "Premiun",
         2006,
         12,
         19
        ],
        [
         46,
         "Camden",
         "16635403304",
         "leo@dignissimpharetraNam.net",
         "2003-10-19",
         30,
         7860.0,
         10,
         "202502",
         "Premiun",
         2003,
         10,
         19
        ],
        [
         47,
         "Vernon",
         "7358400",
         "leo@mattisIntegereu.net",
         "2000-11-23",
         35,
         7109.0,
         10,
         "202502",
         "Premiun",
         2000,
         11,
         23
        ],
        [
         48,
         "Illiana",
         "5723648",
         "montes.nascetur.ridiculus@hendreritneque.co.uk",
         "2017-07-25",
         18,
         1454.0,
         8,
         "202502",
         "Masivo",
         2017,
         7,
         25
        ],
        [
         49,
         "Logan",
         "7067700",
         "neque@sedpede.net",
         "2008-03-07",
         63,
         4963.0,
         7,
         "202502",
         "Premiun",
         2008,
         3,
         7
        ],
        [
         50,
         "Ross",
         "15872851837",
         "at.risus@milaciniamattis.com",
         "2009-11-03",
         31,
         19092.0,
         5,
         "202502",
         "Beyond",
         2009,
         11,
         3
        ],
        [
         51,
         "Damon",
         "3687630",
         "nunc@dapibusquamquis.co.uk",
         "2016-08-11",
         49,
         2669.0,
         5,
         "202502",
         "Masivo",
         2016,
         8,
         11
        ],
        [
         52,
         "Whoopi",
         "16715525009",
         "semper@Cras.ca",
         "2019-01-21",
         22,
         23051.0,
         9,
         "202502",
         "Beyond",
         2019,
         1,
         21
        ],
        [
         53,
         "Zachery",
         "3148083",
         "hymenaeos.Mauris@mollis.ca",
         "2001-01-06",
         22,
         23820.0,
         3,
         "202502",
         "Beyond",
         2001,
         1,
         6
        ],
        [
         54,
         "Lars",
         "15546000855",
         "commodo@Nam.edu",
         "2005-06-22",
         25,
         20573.0,
         1,
         "202502",
         "Beyond",
         2005,
         6,
         22
        ],
        [
         55,
         "Jennifer",
         "7556162",
         "id@ultrices.com",
         "2011-10-19",
         64,
         19013.0,
         9,
         "202502",
         "Beyond",
         2011,
         10,
         19
        ],
        [
         56,
         "Colby",
         "15178278614",
         "nec.ligula@euneque.ca",
         "2014-03-05",
         19,
         15496.0,
         7,
         "202502",
         "Beyond",
         2014,
         3,
         5
        ],
        [
         57,
         "Jillian",
         "12862850336",
         "ipsum@luctus.org",
         "2006-06-02",
         47,
         13445.0,
         8,
         "202502",
         "Beyond",
         2006,
         6,
         2
        ],
        [
         58,
         "Igor",
         "13616038276",
         "mattis.Integer.eu@hendreritconsectetuer.net",
         "2003-07-18",
         37,
         6191.0,
         3,
         "202502",
         "Premiun",
         2003,
         7,
         18
        ],
        [
         59,
         "Quemby",
         "9305882",
         "lorem.ut.aliquam@nuncsed.org",
         "2017-10-04",
         26,
         12092.0,
         5,
         "202502",
         "Beyond",
         2017,
         10,
         4
        ],
        [
         60,
         "Bernard",
         "4928823",
         "vel.faucibus@Donec.edu",
         "2005-04-15",
         27,
         10825.0,
         2,
         "202502",
         "Beyond",
         2005,
         4,
         15
        ],
        [
         61,
         "Abel",
         "12355305916",
         "Curae@afacilisis.org",
         "2011-11-08",
         33,
         15070.0,
         9,
         "202502",
         "Beyond",
         2011,
         11,
         8
        ],
        [
         62,
         "Amelia",
         "1199184",
         "Donec.egestas.Aliquam@turpisvitae.co.uk",
         "2016-01-15",
         35,
         6042.0,
         8,
         "202502",
         "Premiun",
         2016,
         1,
         15
        ],
        [
         63,
         "Sade",
         "1125494",
         "In@utquam.com",
         "2012-04-05",
         70,
         11112.0,
         6,
         "202502",
         "Beyond",
         2012,
         4,
         5
        ],
        [
         64,
         "Graiden",
         "8744897",
         "massa.Mauris.vestibulum@sitamet.co.uk",
         "2010-06-10",
         28,
         22037.0,
         3,
         "202502",
         "Beyond",
         2010,
         6,
         10
        ],
        [
         65,
         "Nehru",
         "1429576",
         "nibh@sagittis.org",
         "2017-08-13",
         34,
         12423.0,
         4,
         "202502",
         "Beyond",
         2017,
         8,
         13
        ],
        [
         66,
         "Adrian",
         "2208905",
         "enim@mollisPhasellus.com",
         "2018-03-15",
         46,
         22953.0,
         2,
         "202502",
         "Beyond",
         2018,
         3,
         15
        ],
        [
         67,
         "Buffy",
         "15381902276",
         "amet@at.ca",
         "2005-10-21",
         38,
         15116.0,
         2,
         "202502",
         "Beyond",
         2005,
         10,
         21
        ],
        [
         68,
         "Hayes",
         "7128783",
         "at@ametdiam.net",
         "2011-12-31",
         31,
         7523.0,
         5,
         "202502",
         "Premiun",
         2011,
         12,
         31
        ],
        [
         69,
         "Halee",
         "12089968549",
         "interdum.feugiat@imperdietornare.edu",
         "2008-12-25",
         30,
         16782.0,
         3,
         "202502",
         "Beyond",
         2008,
         12,
         25
        ],
        [
         70,
         "Suki",
         "16544188537",
         "varius.orci.in@congueelit.co.uk",
         "2010-05-15",
         43,
         12029.0,
         1,
         "202502",
         "Beyond",
         2010,
         5,
         15
        ],
        [
         71,
         "Doris",
         "5088624",
         "Curabitur.vel.lectus@mauris.co.uk",
         "2005-04-28",
         23,
         11538.0,
         6,
         "202502",
         "Beyond",
         2005,
         4,
         28
        ],
        [
         72,
         "Tallulah",
         "13147208141",
         "non@idmagnaet.ca",
         "2000-04-03",
         46,
         9867.0,
         5,
         "202502",
         "Premiun",
         2000,
         4,
         3
        ],
        [
         73,
         "Fiona",
         "18662588730",
         "sit@sedsemegestas.net",
         "2009-09-27",
         42,
         9960.0,
         10,
         "202502",
         "Premiun",
         2009,
         9,
         27
        ],
        [
         74,
         "Kaitlin",
         "8170415",
         "Etiam.laoreet.libero@odiosagittissemper.net",
         "2009-05-22",
         56,
         6515.0,
         10,
         "202502",
         "Premiun",
         2009,
         5,
         22
        ],
        [
         75,
         "Nyssa",
         "3620379",
         "nisi.sem.semper@egestasligulaNullam.edu",
         "2002-04-29",
         53,
         2284.0,
         6,
         "202502",
         "Masivo",
         2002,
         4,
         29
        ],
        [
         76,
         "Omar",
         "13252459578",
         "elit.erat@utodiovel.co.uk",
         "2012-11-19",
         34,
         12163.0,
         6,
         "202502",
         "Beyond",
         2012,
         11,
         19
        ],
        [
         77,
         "Brynne",
         "13579778936",
         "aliquet.nec.imperdiet@euismod.org",
         "2013-06-04",
         22,
         16551.0,
         7,
         "202502",
         "Beyond",
         2013,
         6,
         4
        ],
        [
         78,
         "Lenore",
         "18179735592",
         "Nunc.pulvinar.arcu@Duisatlacus.co.uk",
         "2014-07-07",
         57,
         1483.0,
         2,
         "202502",
         "Masivo",
         2014,
         7,
         7
        ],
        [
         79,
         "Philip",
         "11135283055",
         "nisi.Cum@malesuadavel.edu",
         "2012-09-17",
         51,
         3919.0,
         10,
         "202502",
         "Premiun",
         2012,
         9,
         17
        ],
        [
         80,
         "Ebony",
         "12913604704",
         "parturient.montes.nascetur@vitaeerat.com",
         "2014-05-22",
         59,
         3600.0,
         6,
         "202502",
         "Premiun",
         2014,
         5,
         22
        ],
        [
         81,
         "Joy",
         "13793840646",
         "mi.Aliquam@nislNulla.org",
         "2015-11-15",
         19,
         1256.0,
         2,
         "202502",
         "Masivo",
         2015,
         11,
         15
        ],
        [
         82,
         "Cally",
         "16588905167",
         "id@dolor.edu",
         "2008-12-13",
         67,
         24575.0,
         10,
         "202502",
         "Beyond",
         2008,
         12,
         13
        ],
        [
         83,
         "Giselle",
         "15157996913",
         "ipsum.Suspendisse.sagittis@Innec.org",
         "2002-10-31",
         45,
         2503.0,
         2,
         "202502",
         "Masivo",
         2002,
         10,
         31
        ],
        [
         84,
         "Keith",
         "13192819980",
         "augue.ac@Nulla.co.uk",
         "2008-01-03",
         33,
         13348.0,
         4,
         "202502",
         "Beyond",
         2008,
         1,
         3
        ],
        [
         85,
         "Kennedy",
         "5960668",
         "nibh.sit@famesac.ca",
         "2011-04-25",
         41,
         7272.0,
         3,
         "202502",
         "Premiun",
         2011,
         4,
         25
        ],
        [
         86,
         "Jack",
         "8609554",
         "parturient.montes.nascetur@dui.com",
         "2017-03-10",
         58,
         14473.0,
         5,
         "202502",
         "Beyond",
         2017,
         3,
         10
        ],
        [
         87,
         "Karly",
         "16447257241",
         "tempor.erat@feugiatnon.ca",
         "2011-06-12",
         25,
         3715.0,
         1,
         "202502",
         "Premiun",
         2011,
         6,
         12
        ],
        [
         88,
         "Zeus",
         "15253615753",
         "non.magna.Nam@nuncid.org",
         "2000-09-15",
         29,
         21556.0,
         7,
         "202502",
         "Beyond",
         2000,
         9,
         15
        ],
        [
         89,
         "Kelly",
         "4309134",
         "turpis.In@egestasFusce.ca",
         "2016-04-01",
         55,
         10110.0,
         6,
         "202502",
         "Beyond",
         2016,
         4,
         1
        ],
        [
         90,
         "Sigourney",
         "5988806",
         "sit.amet@sem.net",
         "2002-05-02",
         42,
         9145.0,
         6,
         "202502",
         "Premiun",
         2002,
         5,
         2
        ],
        [
         91,
         "Erica",
         "13203392705",
         "tristique.senectus@eleifendnondapibus.org",
         "2015-02-23",
         32,
         8934.0,
         6,
         "202502",
         "Premiun",
         2015,
         2,
         23
        ],
        [
         92,
         "Lesley",
         "9734902",
         "felis.adipiscing.fringilla@Proinvelnisl.co.uk",
         "2004-02-29",
         19,
         23547.0,
         4,
         "202502",
         "Beyond",
         2004,
         2,
         29
        ],
        [
         93,
         "Althea",
         "11637021244",
         "sit.amet.nulla@elit.co.uk",
         "2002-09-01",
         24,
         8818.0,
         1,
         "202502",
         "Premiun",
         2002,
         9,
         1
        ],
        [
         94,
         "Amir",
         "12217170093",
         "dapibus.ligula@faucibuslectus.com",
         "2001-02-11",
         18,
         20980.0,
         4,
         "202502",
         "Beyond",
         2001,
         2,
         11
        ],
        [
         95,
         "Jayme",
         "16411138418",
         "ornare.Fusce@tinciduntcongueturpis.co.uk",
         "2002-05-31",
         58,
         23975.0,
         4,
         "202502",
         "Beyond",
         2002,
         5,
         31
        ],
        [
         96,
         "Amos",
         "7294665",
         "non.lacinia@pharetra.net",
         "2017-11-27",
         42,
         15855.0,
         2,
         "202502",
         "Beyond",
         2017,
         11,
         27
        ],
        [
         97,
         "Flavia",
         "15592707164",
         "erat.vel.pede@sedtortor.co.uk",
         "2004-11-14",
         27,
         13473.0,
         3,
         "202502",
         "Beyond",
         2004,
         11,
         14
        ],
        [
         98,
         "Yuli",
         "7729996",
         "sagittis@nisl.com",
         "2005-04-17",
         57,
         1336.0,
         5,
         "202502",
         "Masivo",
         2005,
         4,
         17
        ],
        [
         99,
         "Ray",
         "14203142886",
         "ac.risus.Morbi@telluseuaugue.org",
         "2011-12-30",
         26,
         5570.0,
         1,
         "202502",
         "Premiun",
         2011,
         12,
         30
        ],
        [
         100,
         "Cynthia",
         "1489696",
         "justo.nec.ante@tinciduntvehicula.org",
         "2008-01-23",
         57,
         8682.0,
         5,
         "202502",
         "Premiun",
         2008,
         1,
         23
        ]
       ],
       "datasetInfos": [],
       "dbfsResultPath": null,
       "isJsonSchema": true,
       "metadata": {},
       "overflow": false,
       "plotOptions": {
        "customPlotOptions": {},
        "displayType": "table",
        "pivotAggregation": null,
        "pivotColumns": null,
        "xColumns": null,
        "yColumns": null
       },
       "removedWidgets": [],
       "schema": [
        {
         "metadata": "{}",
         "name": "ID",
         "type": "\"integer\""
        },
        {
         "metadata": "{}",
         "name": "NOMBRE",
         "type": "\"string\""
        },
        {
         "metadata": "{}",
         "name": "TELEFONO",
         "type": "\"string\""
        },
        {
         "metadata": "{}",
         "name": "CORREO",
         "type": "\"string\""
        },
        {
         "metadata": "{}",
         "name": "FECHA_INGRESO",
         "type": "\"date\""
        },
        {
         "metadata": "{}",
         "name": "EDAD",
         "type": "\"integer\""
        },
        {
         "metadata": "{}",
         "name": "SALARIO",
         "type": "\"double\""
        },
        {
         "metadata": "{}",
         "name": "ID_EMPRESA",
         "type": "\"integer\""
        },
        {
         "metadata": "{}",
         "name": "PERIODO",
         "type": "\"string\""
        },
        {
         "metadata": "{}",
         "name": "SEGMENTO",
         "type": "\"string\""
        },
        {
         "metadata": "{}",
         "name": "ANIO",
         "type": "\"integer\""
        },
        {
         "metadata": "{}",
         "name": "MES",
         "type": "\"integer\""
        },
        {
         "metadata": "{}",
         "name": "DIA",
         "type": "\"integer\""
        }
       ],
       "type": "table"
      }
     },
     "output_type": "display_data"
    },
    {
     "output_type": "display_data",
     "data": {
      "text/html": [
       "<style scoped>\n",
       "  .table-result-container {\n",
       "    max-height: 300px;\n",
       "    overflow: auto;\n",
       "  }\n",
       "  table, th, td {\n",
       "    border: 1px solid black;\n",
       "    border-collapse: collapse;\n",
       "  }\n",
       "  th, td {\n",
       "    padding: 5px;\n",
       "  }\n",
       "  th {\n",
       "    text-align: left;\n",
       "  }\n",
       "</style><div class='table-result-container'><table class='table-result'><thead style='background-color: white'><tr><th>ID</th><th>NOMBRE</th><th>PERIODO</th></tr></thead><tbody><tr><td>1</td><td>WALMART</td><td>202502</td></tr><tr><td>2</td><td>MICROSOFT</td><td>202502</td></tr><tr><td>3</td><td>APPLE</td><td>202502</td></tr><tr><td>4</td><td>TOYOTA</td><td>202502</td></tr><tr><td>5</td><td>AMAZON</td><td>202502</td></tr><tr><td>6</td><td>GOOGLE</td><td>202502</td></tr><tr><td>7</td><td>SAMSUNG</td><td>202502</td></tr><tr><td>8</td><td>HP</td><td>202502</td></tr><tr><td>9</td><td>IBM</td><td>202502</td></tr><tr><td>10</td><td>SONY</td><td>202502</td></tr></tbody></table></div>"
      ]
     },
     "metadata": {
      "application/vnd.databricks.v1+output": {
       "addedWidgets": {},
       "aggData": [],
       "aggError": "",
       "aggOverflow": false,
       "aggSchema": [],
       "aggSeriesLimitReached": false,
       "aggType": "",
       "arguments": {},
       "columnCustomDisplayInfos": {},
       "data": [
        [
         1,
         "WALMART",
         "202502"
        ],
        [
         2,
         "MICROSOFT",
         "202502"
        ],
        [
         3,
         "APPLE",
         "202502"
        ],
        [
         4,
         "TOYOTA",
         "202502"
        ],
        [
         5,
         "AMAZON",
         "202502"
        ],
        [
         6,
         "GOOGLE",
         "202502"
        ],
        [
         7,
         "SAMSUNG",
         "202502"
        ],
        [
         8,
         "HP",
         "202502"
        ],
        [
         9,
         "IBM",
         "202502"
        ],
        [
         10,
         "SONY",
         "202502"
        ]
       ],
       "datasetInfos": [],
       "dbfsResultPath": null,
       "isJsonSchema": true,
       "metadata": {},
       "overflow": false,
       "plotOptions": {
        "customPlotOptions": {},
        "displayType": "table",
        "pivotAggregation": null,
        "pivotColumns": null,
        "xColumns": null,
        "yColumns": null
       },
       "removedWidgets": [],
       "schema": [
        {
         "metadata": "{}",
         "name": "ID",
         "type": "\"integer\""
        },
        {
         "metadata": "{}",
         "name": "NOMBRE",
         "type": "\"string\""
        },
        {
         "metadata": "{}",
         "name": "PERIODO",
         "type": "\"string\""
        }
       ],
       "type": "table"
      }
     },
     "output_type": "display_data"
    }
   ],
   "source": [
    "df_personas = spark.read.format(\"delta\").load(path_silver_personas)\n",
    "display(df_personas)\n",
    "\n",
    "df_empresas = spark.read.format(\"delta\").load(path_silver_empresas)\n",
    "display(df_empresas)"
   ]
  },
  {
   "cell_type": "code",
   "execution_count": 0,
   "metadata": {
    "application/vnd.databricks.v1+cell": {
     "cellMetadata": {
      "byteLimit": 2048000,
      "rowLimit": 10000
     },
     "inputWidgets": {},
     "nuid": "609fbe2a-637c-4943-be4b-a54d02bd7f8d",
     "showTitle": false,
     "tableResultSettingsMap": {},
     "title": ""
    }
   },
   "outputs": [],
   "source": [
    "df_personas.createOrReplaceTempView(\"tb_personas\")\n",
    "df_empresas.createOrReplaceTempView(\"tb_empresas\")"
   ]
  },
  {
   "cell_type": "code",
   "execution_count": 0,
   "metadata": {
    "application/vnd.databricks.v1+cell": {
     "cellMetadata": {
      "byteLimit": 2048000,
      "rowLimit": 10000
     },
     "inputWidgets": {},
     "nuid": "d7d135c3-2d3a-4a05-9c71-48384c39c739",
     "showTitle": false,
     "tableResultSettingsMap": {},
     "title": ""
    }
   },
   "outputs": [
    {
     "output_type": "display_data",
     "data": {
      "text/html": [
       "<style scoped>\n",
       "  .table-result-container {\n",
       "    max-height: 300px;\n",
       "    overflow: auto;\n",
       "  }\n",
       "  table, th, td {\n",
       "    border: 1px solid black;\n",
       "    border-collapse: collapse;\n",
       "  }\n",
       "  th, td {\n",
       "    padding: 5px;\n",
       "  }\n",
       "  th {\n",
       "    text-align: left;\n",
       "  }\n",
       "</style><div class='table-result-container'><table class='table-result'><thead style='background-color: white'><tr><th>periodo</th><th>nombre_empresa</th><th>salario</th><th>edad</th></tr></thead><tbody><tr><td>202502</td><td>WALMART</td><td>22102.0</td><td>41</td></tr><tr><td>202502</td><td>WALMART</td><td>6497.0</td><td>67</td></tr><tr><td>202502</td><td>WALMART</td><td>20573.0</td><td>25</td></tr><tr><td>202502</td><td>WALMART</td><td>12029.0</td><td>43</td></tr><tr><td>202502</td><td>WALMART</td><td>3715.0</td><td>25</td></tr><tr><td>202502</td><td>WALMART</td><td>8818.0</td><td>24</td></tr><tr><td>202502</td><td>WALMART</td><td>5570.0</td><td>26</td></tr><tr><td>202502</td><td>MICROSOFT</td><td>9298.0</td><td>34</td></tr><tr><td>202502</td><td>MICROSOFT</td><td>16289.0</td><td>59</td></tr><tr><td>202502</td><td>MICROSOFT</td><td>3377.0</td><td>26</td></tr><tr><td>202502</td><td>MICROSOFT</td><td>7449.0</td><td>22</td></tr><tr><td>202502</td><td>MICROSOFT</td><td>6483.0</td><td>39</td></tr><tr><td>202502</td><td>MICROSOFT</td><td>22038.0</td><td>42</td></tr><tr><td>202502</td><td>MICROSOFT</td><td>21452.0</td><td>61</td></tr><tr><td>202502</td><td>MICROSOFT</td><td>10825.0</td><td>27</td></tr><tr><td>202502</td><td>MICROSOFT</td><td>22953.0</td><td>46</td></tr><tr><td>202502</td><td>MICROSOFT</td><td>15116.0</td><td>38</td></tr><tr><td>202502</td><td>MICROSOFT</td><td>1483.0</td><td>57</td></tr><tr><td>202502</td><td>MICROSOFT</td><td>1256.0</td><td>19</td></tr><tr><td>202502</td><td>MICROSOFT</td><td>2503.0</td><td>45</td></tr><tr><td>202502</td><td>MICROSOFT</td><td>15855.0</td><td>42</td></tr><tr><td>202502</td><td>APPLE</td><td>10853.0</td><td>27</td></tr><tr><td>202502</td><td>APPLE</td><td>6834.0</td><td>69</td></tr><tr><td>202502</td><td>APPLE</td><td>21591.0</td><td>47</td></tr><tr><td>202502</td><td>APPLE</td><td>8562.0</td><td>41</td></tr><tr><td>202502</td><td>APPLE</td><td>14285.0</td><td>67</td></tr><tr><td>202502</td><td>APPLE</td><td>23820.0</td><td>22</td></tr><tr><td>202502</td><td>APPLE</td><td>6191.0</td><td>37</td></tr><tr><td>202502</td><td>APPLE</td><td>22037.0</td><td>28</td></tr><tr><td>202502</td><td>APPLE</td><td>16782.0</td><td>30</td></tr><tr><td>202502</td><td>APPLE</td><td>7272.0</td><td>41</td></tr><tr><td>202502</td><td>APPLE</td><td>13473.0</td><td>27</td></tr><tr><td>202502</td><td>TOYOTA</td><td>17403.0</td><td>70</td></tr><tr><td>202502</td><td>TOYOTA</td><td>24305.0</td><td>48</td></tr><tr><td>202502</td><td>TOYOTA</td><td>19522.0</td><td>31</td></tr><tr><td>202502</td><td>TOYOTA</td><td>12423.0</td><td>34</td></tr><tr><td>202502</td><td>TOYOTA</td><td>13348.0</td><td>33</td></tr><tr><td>202502</td><td>TOYOTA</td><td>23547.0</td><td>19</td></tr><tr><td>202502</td><td>TOYOTA</td><td>20980.0</td><td>18</td></tr><tr><td>202502</td><td>TOYOTA</td><td>23975.0</td><td>58</td></tr><tr><td>202502</td><td>AMAZON</td><td>20095.0</td><td>32</td></tr><tr><td>202502</td><td>AMAZON</td><td>8112.0</td><td>52</td></tr><tr><td>202502</td><td>AMAZON</td><td>17040.0</td><td>23</td></tr><tr><td>202502</td><td>AMAZON</td><td>9501.0</td><td>34</td></tr><tr><td>202502</td><td>AMAZON</td><td>1539.0</td><td>27</td></tr><tr><td>202502</td><td>AMAZON</td><td>4588.0</td><td>54</td></tr><tr><td>202502</td><td>AMAZON</td><td>19092.0</td><td>31</td></tr><tr><td>202502</td><td>AMAZON</td><td>2669.0</td><td>49</td></tr><tr><td>202502</td><td>AMAZON</td><td>12092.0</td><td>26</td></tr><tr><td>202502</td><td>AMAZON</td><td>7523.0</td><td>31</td></tr><tr><td>202502</td><td>AMAZON</td><td>9867.0</td><td>46</td></tr><tr><td>202502</td><td>AMAZON</td><td>14473.0</td><td>58</td></tr><tr><td>202502</td><td>AMAZON</td><td>1336.0</td><td>57</td></tr><tr><td>202502</td><td>AMAZON</td><td>8682.0</td><td>57</td></tr><tr><td>202502</td><td>GOOGLE</td><td>6851.0</td><td>60</td></tr><tr><td>202502</td><td>GOOGLE</td><td>8099.0</td><td>51</td></tr><tr><td>202502</td><td>GOOGLE</td><td>14756.0</td><td>52</td></tr><tr><td>202502</td><td>GOOGLE</td><td>13813.0</td><td>55</td></tr><tr><td>202502</td><td>GOOGLE</td><td>22838.0</td><td>64</td></tr><tr><td>202502</td><td>GOOGLE</td><td>11112.0</td><td>70</td></tr><tr><td>202502</td><td>GOOGLE</td><td>11538.0</td><td>23</td></tr><tr><td>202502</td><td>GOOGLE</td><td>2284.0</td><td>53</td></tr><tr><td>202502</td><td>GOOGLE</td><td>12163.0</td><td>34</td></tr><tr><td>202502</td><td>GOOGLE</td><td>3600.0</td><td>59</td></tr><tr><td>202502</td><td>GOOGLE</td><td>10110.0</td><td>55</td></tr><tr><td>202502</td><td>GOOGLE</td><td>9145.0</td><td>42</td></tr><tr><td>202502</td><td>GOOGLE</td><td>8934.0</td><td>32</td></tr><tr><td>202502</td><td>SAMSUNG</td><td>7800.0</td><td>70</td></tr><tr><td>202502</td><td>SAMSUNG</td><td>7996.0</td><td>19</td></tr><tr><td>202502</td><td>SAMSUNG</td><td>4759.0</td><td>34</td></tr><tr><td>202502</td><td>SAMSUNG</td><td>20549.0</td><td>33</td></tr><tr><td>202502</td><td>SAMSUNG</td><td>7040.0</td><td>22</td></tr><tr><td>202502</td><td>SAMSUNG</td><td>4963.0</td><td>63</td></tr><tr><td>202502</td><td>SAMSUNG</td><td>15496.0</td><td>19</td></tr><tr><td>202502</td><td>SAMSUNG</td><td>16551.0</td><td>22</td></tr><tr><td>202502</td><td>SAMSUNG</td><td>21556.0</td><td>29</td></tr><tr><td>202502</td><td>HP</td><td>4913.0</td><td>48</td></tr><tr><td>202502</td><td>HP</td><td>19943.0</td><td>24</td></tr><tr><td>202502</td><td>HP</td><td>1801.0</td><td>24</td></tr><tr><td>202502</td><td>HP</td><td>9469.0</td><td>53</td></tr><tr><td>202502</td><td>HP</td><td>9505.0</td><td>52</td></tr><tr><td>202502</td><td>HP</td><td>6747.0</td><td>58</td></tr><tr><td>202502</td><td>HP</td><td>1454.0</td><td>18</td></tr><tr><td>202502</td><td>HP</td><td>13445.0</td><td>47</td></tr><tr><td>202502</td><td>HP</td><td>6042.0</td><td>35</td></tr><tr><td>202502</td><td>IBM</td><td>18752.0</td><td>24</td></tr><tr><td>202502</td><td>IBM</td><td>10373.0</td><td>41</td></tr><tr><td>202502</td><td>IBM</td><td>5419.0</td><td>42</td></tr><tr><td>202502</td><td>IBM</td><td>23051.0</td><td>22</td></tr><tr><td>202502</td><td>IBM</td><td>19013.0</td><td>64</td></tr><tr><td>202502</td><td>IBM</td><td>15070.0</td><td>33</td></tr><tr><td>202502</td><td>SONY</td><td>3387.0</td><td>29</td></tr><tr><td>202502</td><td>SONY</td><td>1952.0</td><td>31</td></tr><tr><td>202502</td><td>SONY</td><td>16735.0</td><td>27</td></tr><tr><td>202502</td><td>SONY</td><td>7860.0</td><td>30</td></tr><tr><td>202502</td><td>SONY</td><td>7109.0</td><td>35</td></tr><tr><td>202502</td><td>SONY</td><td>9960.0</td><td>42</td></tr><tr><td>202502</td><td>SONY</td><td>6515.0</td><td>56</td></tr><tr><td>202502</td><td>SONY</td><td>3919.0</td><td>51</td></tr><tr><td>202502</td><td>SONY</td><td>24575.0</td><td>67</td></tr></tbody></table></div>"
      ]
     },
     "metadata": {
      "application/vnd.databricks.v1+output": {
       "addedWidgets": {},
       "aggData": [],
       "aggError": "",
       "aggOverflow": false,
       "aggSchema": [],
       "aggSeriesLimitReached": false,
       "aggType": "",
       "arguments": {},
       "columnCustomDisplayInfos": {},
       "data": [
        [
         "202502",
         "WALMART",
         22102.0,
         41
        ],
        [
         "202502",
         "WALMART",
         6497.0,
         67
        ],
        [
         "202502",
         "WALMART",
         20573.0,
         25
        ],
        [
         "202502",
         "WALMART",
         12029.0,
         43
        ],
        [
         "202502",
         "WALMART",
         3715.0,
         25
        ],
        [
         "202502",
         "WALMART",
         8818.0,
         24
        ],
        [
         "202502",
         "WALMART",
         5570.0,
         26
        ],
        [
         "202502",
         "MICROSOFT",
         9298.0,
         34
        ],
        [
         "202502",
         "MICROSOFT",
         16289.0,
         59
        ],
        [
         "202502",
         "MICROSOFT",
         3377.0,
         26
        ],
        [
         "202502",
         "MICROSOFT",
         7449.0,
         22
        ],
        [
         "202502",
         "MICROSOFT",
         6483.0,
         39
        ],
        [
         "202502",
         "MICROSOFT",
         22038.0,
         42
        ],
        [
         "202502",
         "MICROSOFT",
         21452.0,
         61
        ],
        [
         "202502",
         "MICROSOFT",
         10825.0,
         27
        ],
        [
         "202502",
         "MICROSOFT",
         22953.0,
         46
        ],
        [
         "202502",
         "MICROSOFT",
         15116.0,
         38
        ],
        [
         "202502",
         "MICROSOFT",
         1483.0,
         57
        ],
        [
         "202502",
         "MICROSOFT",
         1256.0,
         19
        ],
        [
         "202502",
         "MICROSOFT",
         2503.0,
         45
        ],
        [
         "202502",
         "MICROSOFT",
         15855.0,
         42
        ],
        [
         "202502",
         "APPLE",
         10853.0,
         27
        ],
        [
         "202502",
         "APPLE",
         6834.0,
         69
        ],
        [
         "202502",
         "APPLE",
         21591.0,
         47
        ],
        [
         "202502",
         "APPLE",
         8562.0,
         41
        ],
        [
         "202502",
         "APPLE",
         14285.0,
         67
        ],
        [
         "202502",
         "APPLE",
         23820.0,
         22
        ],
        [
         "202502",
         "APPLE",
         6191.0,
         37
        ],
        [
         "202502",
         "APPLE",
         22037.0,
         28
        ],
        [
         "202502",
         "APPLE",
         16782.0,
         30
        ],
        [
         "202502",
         "APPLE",
         7272.0,
         41
        ],
        [
         "202502",
         "APPLE",
         13473.0,
         27
        ],
        [
         "202502",
         "TOYOTA",
         17403.0,
         70
        ],
        [
         "202502",
         "TOYOTA",
         24305.0,
         48
        ],
        [
         "202502",
         "TOYOTA",
         19522.0,
         31
        ],
        [
         "202502",
         "TOYOTA",
         12423.0,
         34
        ],
        [
         "202502",
         "TOYOTA",
         13348.0,
         33
        ],
        [
         "202502",
         "TOYOTA",
         23547.0,
         19
        ],
        [
         "202502",
         "TOYOTA",
         20980.0,
         18
        ],
        [
         "202502",
         "TOYOTA",
         23975.0,
         58
        ],
        [
         "202502",
         "AMAZON",
         20095.0,
         32
        ],
        [
         "202502",
         "AMAZON",
         8112.0,
         52
        ],
        [
         "202502",
         "AMAZON",
         17040.0,
         23
        ],
        [
         "202502",
         "AMAZON",
         9501.0,
         34
        ],
        [
         "202502",
         "AMAZON",
         1539.0,
         27
        ],
        [
         "202502",
         "AMAZON",
         4588.0,
         54
        ],
        [
         "202502",
         "AMAZON",
         19092.0,
         31
        ],
        [
         "202502",
         "AMAZON",
         2669.0,
         49
        ],
        [
         "202502",
         "AMAZON",
         12092.0,
         26
        ],
        [
         "202502",
         "AMAZON",
         7523.0,
         31
        ],
        [
         "202502",
         "AMAZON",
         9867.0,
         46
        ],
        [
         "202502",
         "AMAZON",
         14473.0,
         58
        ],
        [
         "202502",
         "AMAZON",
         1336.0,
         57
        ],
        [
         "202502",
         "AMAZON",
         8682.0,
         57
        ],
        [
         "202502",
         "GOOGLE",
         6851.0,
         60
        ],
        [
         "202502",
         "GOOGLE",
         8099.0,
         51
        ],
        [
         "202502",
         "GOOGLE",
         14756.0,
         52
        ],
        [
         "202502",
         "GOOGLE",
         13813.0,
         55
        ],
        [
         "202502",
         "GOOGLE",
         22838.0,
         64
        ],
        [
         "202502",
         "GOOGLE",
         11112.0,
         70
        ],
        [
         "202502",
         "GOOGLE",
         11538.0,
         23
        ],
        [
         "202502",
         "GOOGLE",
         2284.0,
         53
        ],
        [
         "202502",
         "GOOGLE",
         12163.0,
         34
        ],
        [
         "202502",
         "GOOGLE",
         3600.0,
         59
        ],
        [
         "202502",
         "GOOGLE",
         10110.0,
         55
        ],
        [
         "202502",
         "GOOGLE",
         9145.0,
         42
        ],
        [
         "202502",
         "GOOGLE",
         8934.0,
         32
        ],
        [
         "202502",
         "SAMSUNG",
         7800.0,
         70
        ],
        [
         "202502",
         "SAMSUNG",
         7996.0,
         19
        ],
        [
         "202502",
         "SAMSUNG",
         4759.0,
         34
        ],
        [
         "202502",
         "SAMSUNG",
         20549.0,
         33
        ],
        [
         "202502",
         "SAMSUNG",
         7040.0,
         22
        ],
        [
         "202502",
         "SAMSUNG",
         4963.0,
         63
        ],
        [
         "202502",
         "SAMSUNG",
         15496.0,
         19
        ],
        [
         "202502",
         "SAMSUNG",
         16551.0,
         22
        ],
        [
         "202502",
         "SAMSUNG",
         21556.0,
         29
        ],
        [
         "202502",
         "HP",
         4913.0,
         48
        ],
        [
         "202502",
         "HP",
         19943.0,
         24
        ],
        [
         "202502",
         "HP",
         1801.0,
         24
        ],
        [
         "202502",
         "HP",
         9469.0,
         53
        ],
        [
         "202502",
         "HP",
         9505.0,
         52
        ],
        [
         "202502",
         "HP",
         6747.0,
         58
        ],
        [
         "202502",
         "HP",
         1454.0,
         18
        ],
        [
         "202502",
         "HP",
         13445.0,
         47
        ],
        [
         "202502",
         "HP",
         6042.0,
         35
        ],
        [
         "202502",
         "IBM",
         18752.0,
         24
        ],
        [
         "202502",
         "IBM",
         10373.0,
         41
        ],
        [
         "202502",
         "IBM",
         5419.0,
         42
        ],
        [
         "202502",
         "IBM",
         23051.0,
         22
        ],
        [
         "202502",
         "IBM",
         19013.0,
         64
        ],
        [
         "202502",
         "IBM",
         15070.0,
         33
        ],
        [
         "202502",
         "SONY",
         3387.0,
         29
        ],
        [
         "202502",
         "SONY",
         1952.0,
         31
        ],
        [
         "202502",
         "SONY",
         16735.0,
         27
        ],
        [
         "202502",
         "SONY",
         7860.0,
         30
        ],
        [
         "202502",
         "SONY",
         7109.0,
         35
        ],
        [
         "202502",
         "SONY",
         9960.0,
         42
        ],
        [
         "202502",
         "SONY",
         6515.0,
         56
        ],
        [
         "202502",
         "SONY",
         3919.0,
         51
        ],
        [
         "202502",
         "SONY",
         24575.0,
         67
        ]
       ],
       "datasetInfos": [],
       "dbfsResultPath": null,
       "isJsonSchema": true,
       "metadata": {},
       "overflow": false,
       "plotOptions": {
        "customPlotOptions": {},
        "displayType": "table",
        "pivotAggregation": null,
        "pivotColumns": null,
        "xColumns": null,
        "yColumns": null
       },
       "removedWidgets": [],
       "schema": [
        {
         "metadata": "{}",
         "name": "periodo",
         "type": "\"string\""
        },
        {
         "metadata": "{}",
         "name": "nombre_empresa",
         "type": "\"string\""
        },
        {
         "metadata": "{}",
         "name": "salario",
         "type": "\"double\""
        },
        {
         "metadata": "{}",
         "name": "edad",
         "type": "\"integer\""
        }
       ],
       "type": "table"
      }
     },
     "output_type": "display_data"
    }
   ],
   "source": [
    "sql = \"\"\"SELECT p.periodo,e.nombre as nombre_empresa, p.salario,p.edad\n",
    "         FROM tb_personas p \n",
    "         INNER JOIN tb_empresas e ON e.ID = p.ID_EMPRESA \n",
    "         ORDER BY p.id_empresa\"\"\"\n",
    "df_result_1 = spark.sql(sql)\n",
    "display(df_result_1)"
   ]
  },
  {
   "cell_type": "code",
   "execution_count": 0,
   "metadata": {
    "application/vnd.databricks.v1+cell": {
     "cellMetadata": {
      "byteLimit": 2048000,
      "rowLimit": 10000
     },
     "inputWidgets": {},
     "nuid": "72d8fd6e-45b6-40b1-b972-345f81ddb50a",
     "showTitle": false,
     "tableResultSettingsMap": {},
     "title": ""
    }
   },
   "outputs": [],
   "source": [
    "df_result_1.createOrReplaceTempView(\"tb_analisis_detalle\")"
   ]
  },
  {
   "cell_type": "code",
   "execution_count": 0,
   "metadata": {
    "application/vnd.databricks.v1+cell": {
     "cellMetadata": {
      "byteLimit": 2048000,
      "rowLimit": 10000
     },
     "inputWidgets": {},
     "nuid": "67126713-328d-4f81-8f8d-faf80133d915",
     "showTitle": false,
     "tableResultSettingsMap": {},
     "title": ""
    }
   },
   "outputs": [
    {
     "output_type": "display_data",
     "data": {
      "text/html": [
       "<style scoped>\n",
       "  .table-result-container {\n",
       "    max-height: 300px;\n",
       "    overflow: auto;\n",
       "  }\n",
       "  table, th, td {\n",
       "    border: 1px solid black;\n",
       "    border-collapse: collapse;\n",
       "  }\n",
       "  th, td {\n",
       "    padding: 5px;\n",
       "  }\n",
       "  th {\n",
       "    text-align: left;\n",
       "  }\n",
       "</style><div class='table-result-container'><table class='table-result'><thead style='background-color: white'><tr><th>periodo</th><th>nombre_empresa</th><th>sum_salario</th><th>avg_salario</th><th>avg_edad</th></tr></thead><tbody><tr><td>202502</td><td>AMAZON</td><td>136609.0</td><td>9757.785714285714</td><td>41.214285714285715</td></tr><tr><td>202502</td><td>SONY</td><td>82012.0</td><td>9112.444444444445</td><td>40.888888888888886</td></tr><tr><td>202502</td><td>TOYOTA</td><td>155503.0</td><td>19437.875</td><td>38.875</td></tr><tr><td>202502</td><td>MICROSOFT</td><td>156377.0</td><td>11169.785714285714</td><td>39.785714285714285</td></tr><tr><td>202502</td><td>HP</td><td>73319.0</td><td>8146.555555555556</td><td>39.888888888888886</td></tr><tr><td>202502</td><td>WALMART</td><td>79304.0</td><td>11329.142857142857</td><td>35.857142857142854</td></tr><tr><td>202502</td><td>IBM</td><td>91678.0</td><td>15279.666666666666</td><td>37.666666666666664</td></tr><tr><td>202502</td><td>SAMSUNG</td><td>106710.0</td><td>11856.666666666666</td><td>34.55555555555556</td></tr><tr><td>202502</td><td>GOOGLE</td><td>135243.0</td><td>10403.307692307691</td><td>50.0</td></tr><tr><td>202502</td><td>APPLE</td><td>151700.0</td><td>13790.90909090909</td><td>39.63636363636363</td></tr></tbody></table></div>"
      ]
     },
     "metadata": {
      "application/vnd.databricks.v1+output": {
       "addedWidgets": {},
       "aggData": [],
       "aggError": "",
       "aggOverflow": false,
       "aggSchema": [],
       "aggSeriesLimitReached": false,
       "aggType": "",
       "arguments": {},
       "columnCustomDisplayInfos": {},
       "data": [
        [
         "202502",
         "AMAZON",
         136609.0,
         9757.785714285714,
         41.214285714285715
        ],
        [
         "202502",
         "SONY",
         82012.0,
         9112.444444444445,
         40.888888888888886
        ],
        [
         "202502",
         "TOYOTA",
         155503.0,
         19437.875,
         38.875
        ],
        [
         "202502",
         "MICROSOFT",
         156377.0,
         11169.785714285714,
         39.785714285714285
        ],
        [
         "202502",
         "HP",
         73319.0,
         8146.555555555556,
         39.888888888888886
        ],
        [
         "202502",
         "WALMART",
         79304.0,
         11329.142857142857,
         35.857142857142854
        ],
        [
         "202502",
         "IBM",
         91678.0,
         15279.666666666666,
         37.666666666666664
        ],
        [
         "202502",
         "SAMSUNG",
         106710.0,
         11856.666666666666,
         34.55555555555556
        ],
        [
         "202502",
         "GOOGLE",
         135243.0,
         10403.307692307691,
         50.0
        ],
        [
         "202502",
         "APPLE",
         151700.0,
         13790.90909090909,
         39.63636363636363
        ]
       ],
       "datasetInfos": [],
       "dbfsResultPath": null,
       "isJsonSchema": true,
       "metadata": {},
       "overflow": false,
       "plotOptions": {
        "customPlotOptions": {},
        "displayType": "table",
        "pivotAggregation": null,
        "pivotColumns": null,
        "xColumns": null,
        "yColumns": null
       },
       "removedWidgets": [],
       "schema": [
        {
         "metadata": "{}",
         "name": "periodo",
         "type": "\"string\""
        },
        {
         "metadata": "{}",
         "name": "nombre_empresa",
         "type": "\"string\""
        },
        {
         "metadata": "{}",
         "name": "sum_salario",
         "type": "\"double\""
        },
        {
         "metadata": "{}",
         "name": "avg_salario",
         "type": "\"double\""
        },
        {
         "metadata": "{}",
         "name": "avg_edad",
         "type": "\"double\""
        }
       ],
       "type": "table"
      }
     },
     "output_type": "display_data"
    }
   ],
   "source": [
    "sql_final = \"\"\" select periodo\n",
    ",nombre_empresa,sum(salario) as sum_salario,avg(salario) as avg_salario, avg(edad) as avg_edad from tb_analisis_detalle group by periodo\n",
    ",nombre_empresa\n",
    "\"\"\"\n",
    "df_result_final = spark.sql(sql_final)\n",
    "display(df_result_final)"
   ]
  },
  {
   "cell_type": "code",
   "execution_count": 0,
   "metadata": {
    "application/vnd.databricks.v1+cell": {
     "cellMetadata": {
      "byteLimit": 2048000,
      "rowLimit": 10000
     },
     "inputWidgets": {},
     "nuid": "91e97e2e-e970-453a-a942-7247fc36cf82",
     "showTitle": false,
     "tableResultSettingsMap": {},
     "title": ""
    }
   },
   "outputs": [],
   "source": [
    "df_result_final.write.mode(\"overwrite\").format(\"delta\").save(path_gold)"
   ]
  },
  {
   "cell_type": "code",
   "execution_count": 0,
   "metadata": {
    "application/vnd.databricks.v1+cell": {
     "cellMetadata": {
      "byteLimit": 2048000,
      "rowLimit": 10000
     },
     "inputWidgets": {},
     "nuid": "2cc0b996-fb81-4c44-8e99-bcd5b19e6793",
     "showTitle": false,
     "tableResultSettingsMap": {},
     "title": ""
    }
   },
   "outputs": [
    {
     "output_type": "display_data",
     "data": {
      "text/html": [
       "<style scoped>\n",
       "  .table-result-container {\n",
       "    max-height: 300px;\n",
       "    overflow: auto;\n",
       "  }\n",
       "  table, th, td {\n",
       "    border: 1px solid black;\n",
       "    border-collapse: collapse;\n",
       "  }\n",
       "  th, td {\n",
       "    padding: 5px;\n",
       "  }\n",
       "  th {\n",
       "    text-align: left;\n",
       "  }\n",
       "</style><div class='table-result-container'><table class='table-result'><thead style='background-color: white'><tr><th>periodo</th><th>nombre_empresa</th><th>sum_salario</th><th>avg_salario</th><th>avg_edad</th></tr></thead><tbody><tr><td>202502</td><td>AMAZON</td><td>136609.0</td><td>9757.785714285714</td><td>41.214285714285715</td></tr><tr><td>202502</td><td>SONY</td><td>82012.0</td><td>9112.444444444445</td><td>40.888888888888886</td></tr><tr><td>202502</td><td>TOYOTA</td><td>155503.0</td><td>19437.875</td><td>38.875</td></tr><tr><td>202502</td><td>MICROSOFT</td><td>156377.0</td><td>11169.785714285714</td><td>39.785714285714285</td></tr><tr><td>202502</td><td>HP</td><td>73319.0</td><td>8146.555555555556</td><td>39.888888888888886</td></tr><tr><td>202502</td><td>WALMART</td><td>79304.0</td><td>11329.142857142857</td><td>35.857142857142854</td></tr><tr><td>202502</td><td>IBM</td><td>91678.0</td><td>15279.666666666666</td><td>37.666666666666664</td></tr><tr><td>202502</td><td>SAMSUNG</td><td>106710.0</td><td>11856.666666666666</td><td>34.55555555555556</td></tr><tr><td>202502</td><td>GOOGLE</td><td>135243.0</td><td>10403.307692307691</td><td>50.0</td></tr><tr><td>202502</td><td>APPLE</td><td>151700.0</td><td>13790.90909090909</td><td>39.63636363636363</td></tr></tbody></table></div>"
      ]
     },
     "metadata": {
      "application/vnd.databricks.v1+output": {
       "addedWidgets": {},
       "aggData": [],
       "aggError": "",
       "aggOverflow": false,
       "aggSchema": [],
       "aggSeriesLimitReached": false,
       "aggType": "",
       "arguments": {},
       "columnCustomDisplayInfos": {},
       "data": [
        [
         "202502",
         "AMAZON",
         136609.0,
         9757.785714285714,
         41.214285714285715
        ],
        [
         "202502",
         "SONY",
         82012.0,
         9112.444444444445,
         40.888888888888886
        ],
        [
         "202502",
         "TOYOTA",
         155503.0,
         19437.875,
         38.875
        ],
        [
         "202502",
         "MICROSOFT",
         156377.0,
         11169.785714285714,
         39.785714285714285
        ],
        [
         "202502",
         "HP",
         73319.0,
         8146.555555555556,
         39.888888888888886
        ],
        [
         "202502",
         "WALMART",
         79304.0,
         11329.142857142857,
         35.857142857142854
        ],
        [
         "202502",
         "IBM",
         91678.0,
         15279.666666666666,
         37.666666666666664
        ],
        [
         "202502",
         "SAMSUNG",
         106710.0,
         11856.666666666666,
         34.55555555555556
        ],
        [
         "202502",
         "GOOGLE",
         135243.0,
         10403.307692307691,
         50.0
        ],
        [
         "202502",
         "APPLE",
         151700.0,
         13790.90909090909,
         39.63636363636363
        ]
       ],
       "datasetInfos": [],
       "dbfsResultPath": null,
       "isJsonSchema": true,
       "metadata": {},
       "overflow": false,
       "plotOptions": {
        "customPlotOptions": {},
        "displayType": "table",
        "pivotAggregation": null,
        "pivotColumns": null,
        "xColumns": null,
        "yColumns": null
       },
       "removedWidgets": [],
       "schema": [
        {
         "metadata": "{}",
         "name": "periodo",
         "type": "\"string\""
        },
        {
         "metadata": "{}",
         "name": "nombre_empresa",
         "type": "\"string\""
        },
        {
         "metadata": "{}",
         "name": "sum_salario",
         "type": "\"double\""
        },
        {
         "metadata": "{}",
         "name": "avg_salario",
         "type": "\"double\""
        },
        {
         "metadata": "{}",
         "name": "avg_edad",
         "type": "\"double\""
        }
       ],
       "type": "table"
      }
     },
     "output_type": "display_data"
    }
   ],
   "source": [
    "df = spark.read.format(\"delta\").load(path_gold)\n",
    "display(df)"
   ]
  }
 ],
 "metadata": {
  "application/vnd.databricks.v1+notebook": {
   "computePreferences": null,
   "dashboards": [],
   "environmentMetadata": {
    "base_environment": "",
    "environment_version": "1"
   },
   "inputWidgetPreferences": null,
   "language": "python",
   "notebookMetadata": {
    "pythonIndentUnit": 4
   },
   "notebookName": "dmc-gold-reporting-analisis-salario-process",
   "widgets": {}
  }
 },
 "nbformat": 4,
 "nbformat_minor": 0
}
